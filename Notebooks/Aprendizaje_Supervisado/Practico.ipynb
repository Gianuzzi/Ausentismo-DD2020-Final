{
 "cells": [
  {
   "cell_type": "markdown",
   "metadata": {
    "toc": true
   },
   "source": [
    "<h1>Table of Contents<span class=\"tocSkip\"></span></h1>\n",
    "<div class=\"toc\"><ul class=\"toc-item\"><li><span><a href=\"#Práctico-de-Aprendizaje-Supervisado\" data-toc-modified-id=\"Práctico-de-Aprendizaje-Supervisado-1\"><span class=\"toc-item-num\">1&nbsp;&nbsp;</span><strong>Práctico de Aprendizaje Supervisado</strong></a></span><ul class=\"toc-item\"><li><ul class=\"toc-item\"><li><span><a href=\"#Modelos-de-ensamble\" data-toc-modified-id=\"Modelos-de-ensamble-1.0.1\"><span class=\"toc-item-num\">1.0.1&nbsp;&nbsp;</span><strong>Modelos de ensamble</strong></a></span></li><li><span><a href=\"#Ajuste-de-hiperparámetros\" data-toc-modified-id=\"Ajuste-de-hiperparámetros-1.0.2\"><span class=\"toc-item-num\">1.0.2&nbsp;&nbsp;</span><strong>Ajuste de hiperparámetros</strong></a></span></li><li><span><a href=\"#Feature-importance\" data-toc-modified-id=\"Feature-importance-1.0.3\"><span class=\"toc-item-num\">1.0.3&nbsp;&nbsp;</span><strong>Feature importance</strong></a></span></li><li><span><a href=\"#Opcional:-Feature-engineering\" data-toc-modified-id=\"Opcional:-Feature-engineering-1.0.4\"><span class=\"toc-item-num\">1.0.4&nbsp;&nbsp;</span><strong>Opcional: Feature engineering</strong></a></span></li><li><span><a href=\"#Opcional:-Modelos-no-basados-en-árboles\" data-toc-modified-id=\"Opcional:-Modelos-no-basados-en-árboles-1.0.5\"><span class=\"toc-item-num\">1.0.5&nbsp;&nbsp;</span><strong>Opcional: Modelos no basados en árboles</strong></a></span></li><li><span><a href=\"#Notas\" data-toc-modified-id=\"Notas-1.0.6\"><span class=\"toc-item-num\">1.0.6&nbsp;&nbsp;</span><strong>Notas</strong></a></span></li></ul></li></ul></li><li><span><a href=\"#Importaciones\" data-toc-modified-id=\"Importaciones-2\"><span class=\"toc-item-num\">2&nbsp;&nbsp;</span>Importaciones</a></span><ul class=\"toc-item\"><li><span><a href=\"#Librerías\" data-toc-modified-id=\"Librerías-2.1\"><span class=\"toc-item-num\">2.1&nbsp;&nbsp;</span>Librerías</a></span></li><li><span><a href=\"#Funciones\" data-toc-modified-id=\"Funciones-2.2\"><span class=\"toc-item-num\">2.2&nbsp;&nbsp;</span>Funciones</a></span></li><li><span><a href=\"#Dataset\" data-toc-modified-id=\"Dataset-2.3\"><span class=\"toc-item-num\">2.3&nbsp;&nbsp;</span>Dataset</a></span><ul class=\"toc-item\"><li><ul class=\"toc-item\"><li><span><a href=\"#División-entre-conjunto-de-entrenamiento-y-de-evaluación\" data-toc-modified-id=\"División-entre-conjunto-de-entrenamiento-y-de-evaluación-2.3.0.1\"><span class=\"toc-item-num\">2.3.0.1&nbsp;&nbsp;</span>División entre conjunto de entrenamiento y de evaluación</a></span></li></ul></li></ul></li><li><span><a href=\"#Entrenamiento-sin-hiperparámetros\" data-toc-modified-id=\"Entrenamiento-sin-hiperparámetros-2.4\"><span class=\"toc-item-num\">2.4&nbsp;&nbsp;</span>Entrenamiento sin hiperparámetros</a></span><ul class=\"toc-item\"><li><span><a href=\"#Decision-Tree-Classifier-(Baseline)\" data-toc-modified-id=\"Decision-Tree-Classifier-(Baseline)-2.4.1\"><span class=\"toc-item-num\">2.4.1&nbsp;&nbsp;</span>Decision Tree Classifier (Baseline)</a></span></li><li><span><a href=\"#Random-Forest-Classifier\" data-toc-modified-id=\"Random-Forest-Classifier-2.4.2\"><span class=\"toc-item-num\">2.4.2&nbsp;&nbsp;</span>Random Forest Classifier</a></span></li><li><span><a href=\"#XGBoost-Classifier\" data-toc-modified-id=\"XGBoost-Classifier-2.4.3\"><span class=\"toc-item-num\">2.4.3&nbsp;&nbsp;</span>XGBoost Classifier</a></span></li></ul></li><li><span><a href=\"#Hyperparameter-Tuning\" data-toc-modified-id=\"Hyperparameter-Tuning-2.5\"><span class=\"toc-item-num\">2.5&nbsp;&nbsp;</span>Hyperparameter Tuning</a></span><ul class=\"toc-item\"><li><span><a href=\"#Random-Forest-Classifier\" data-toc-modified-id=\"Random-Forest-Classifier-2.5.1\"><span class=\"toc-item-num\">2.5.1&nbsp;&nbsp;</span>Random Forest Classifier</a></span></li><li><span><a href=\"#XGBoost-Classifier\" data-toc-modified-id=\"XGBoost-Classifier-2.5.2\"><span class=\"toc-item-num\">2.5.2&nbsp;&nbsp;</span>XGBoost Classifier</a></span></li></ul></li><li><span><a href=\"#Feature-importance-and-engineering\" data-toc-modified-id=\"Feature-importance-and-engineering-2.6\"><span class=\"toc-item-num\">2.6&nbsp;&nbsp;</span>Feature importance and engineering</a></span><ul class=\"toc-item\"><li><span><a href=\"#Random-Forest-Classifier\" data-toc-modified-id=\"Random-Forest-Classifier-2.6.1\"><span class=\"toc-item-num\">2.6.1&nbsp;&nbsp;</span>Random Forest Classifier</a></span></li><li><span><a href=\"#Random-Forest-Classifier-con-Feature-engineering\" data-toc-modified-id=\"Random-Forest-Classifier-con-Feature-engineering-2.6.2\"><span class=\"toc-item-num\">2.6.2&nbsp;&nbsp;</span>Random Forest Classifier con Feature engineering</a></span><ul class=\"toc-item\"><li><span><a href=\"#Hyperparameter-Tuning\" data-toc-modified-id=\"Hyperparameter-Tuning-2.6.2.1\"><span class=\"toc-item-num\">2.6.2.1&nbsp;&nbsp;</span>Hyperparameter Tuning</a></span></li><li><span><a href=\"#Modelo-optimizado\" data-toc-modified-id=\"Modelo-optimizado-2.6.2.2\"><span class=\"toc-item-num\">2.6.2.2&nbsp;&nbsp;</span>Modelo optimizado</a></span></li></ul></li><li><span><a href=\"#XGBoost-Classifier\" data-toc-modified-id=\"XGBoost-Classifier-2.6.3\"><span class=\"toc-item-num\">2.6.3&nbsp;&nbsp;</span>XGBoost Classifier</a></span></li><li><span><a href=\"#XGboost-Classifier-con-Feature-engineering\" data-toc-modified-id=\"XGboost-Classifier-con-Feature-engineering-2.6.4\"><span class=\"toc-item-num\">2.6.4&nbsp;&nbsp;</span>XGboost Classifier con Feature engineering</a></span><ul class=\"toc-item\"><li><span><a href=\"#Hyperparameter-Tuning\" data-toc-modified-id=\"Hyperparameter-Tuning-2.6.4.1\"><span class=\"toc-item-num\">2.6.4.1&nbsp;&nbsp;</span>Hyperparameter Tuning</a></span></li><li><span><a href=\"#Modelo-optimizado\" data-toc-modified-id=\"Modelo-optimizado-2.6.4.2\"><span class=\"toc-item-num\">2.6.4.2&nbsp;&nbsp;</span>Modelo optimizado</a></span></li></ul></li></ul></li></ul></li></ul></div>"
   ]
  },
  {
   "cell_type": "markdown",
   "metadata": {},
   "source": [
    "# **Práctico de Aprendizaje Supervisado**\n",
    "\n",
    "La idea general de este práctico es profundizar sobre los modelos desarrollados en el práctico anterior. Además de buscar mejorar las predicciones, vamos a hacer énfasis en las bondades y limitaciones de cada modelo, como para intentar comprender qué hace que ciertos modelos se desempeñen mejor que otros. \n",
    "\n",
    "### **Modelos de ensamble**\n",
    "\n",
    "Los árboles de decisión suelen ser buenos modelos para trabajar con datos categóricos. Como nuestros datos son mayoritariamente de este tipo, vamos a estudiar un poco más en detalle esta familia de modelos. En este práctico vamos a emplear dos generalizaciones de árboles de decisión: [RandomForest](https://scikit-learn.org/stable/modules/generated/sklearn.ensemble.RandomForestClassifier.html) y [XGBoost](https://xgboost.readthedocs.io/en/latest/python/python_api.html#xgboost.XGBClassifier). Para este último, tienen que installar el paquete xgboost, que lo pueden hacer con ``pip install xgboost``. Estos dos modelos utilizan dos técnicas de ensamble: bagging y boosting, respectivamente, y cada uno de ellos tiene pros y contras. Aunque seguramente lo vieron en los teóricos, les recomiendo mirar los videos relacionados de [StatQuest](https://www.youtube.com/watch?v=J4Wdy0Wc_xQ&ab_channel=StatQuestwithJoshStarmer), que son bastante amenos.\n",
    "\n",
    "Para este práctico tendrán que entrenar ambos modelos y comparar los resultados con los obtenidos empleando un único árbol de decisión. Para darle robustez a los resultados, ahora utilizaremos [cross validation](https://scikit-learn.org/stable/modules/cross_validation.html) en los datos de entrenamiento (usen entre 3 y 5 divisones). \n",
    "\n",
    "\n",
    "### **Ajuste de hiperparámetros**\n",
    "\n",
    "Cada modelo tiene un conjunto de hiperparámetros que es necesario definir antes de entrenarlos. La cantidad de estos hiperparámetros depende mucho de la familia de modelos. Los modelos bayesianos, por ejemplo, suelen tener muy pocos, mientras que las redes neuronales pueden tener varios millones. \n",
    "\n",
    "En este práctico tendrán que realizar una búsqueda exhaustiva de hiperparámetros para los modelos elegidos. Como este proceso puede llegar a ser muy costoso computacionalmente, es importante que usen los insights que hayan obtenido en el práctico anterior para decidir qué hiperparámetros vale la pena variar, qué rangos de valores podría tomar, y cómo debería ser la variación (lineal, logarítmica). Para hacer esta búsqueda, utilicen al menos uno de los siguientes [métodos](https://towardsdatascience.com/hyperparameter-optimization-with-scikit-learn-scikit-opt-and-keras-f13367f3e796):\n",
    "\n",
    "- Grid search\n",
    "\n",
    "- Random search\n",
    "\n",
    "- Bayesian optimization\n",
    "\n",
    "**Opcional:** Si usan más de uno, comenten las ventajas y desventajas de cada método.\n",
    "\n",
    "\n",
    "### **Feature importance**\n",
    "\n",
    "En general, los features elegidos pueden ser más o menos informativos. Puede que algunos sean extremadamente útiles para realizar predicciones, mientras que otros no tengan ningún tipo de correlación con la variable objetivo. Incluso, algunos features, o combinaciones de features, pueden disminuir la performance de un modelo. Hay varios métodos para calcular la importancia de los features (varios de ellos descriptos [acá](https://machinelearningmastery.com/calculate-feature-importance-with-python/). Algunos métodos dependen del modelo en cuestión, y otros se pueden aplicar a todos los modelos. Dentro de estos últimos está el método que vamos a usar en este práctico, llamado [permutation feature importance](https://scikit-learn.org/stable/modules/permutation_importance.html). Básicamente, este método consiste en ver qué tanto varía la performance de un modelo si tomamos de a uno cada feature y lo randomizamos.\n",
    "\n",
    "Lo que deberán hacer es calcular la importancia de los features utilizados, determinar cuáles de ellos son los más informativos y discutir sobre el resultado obtenido. Por otro lado, evalúen cómo varía el poder predictivo del modelo si remueven los features menos importantes. \n",
    "\n",
    "**Opcional:** Cuando trabajen con árboles de decisión, van a ver que los modelos de ``sklearn`` tienen un atributo llamado ``.feature_importances_``. En este [link](https://towardsdatascience.com/explaining-feature-importance-by-example-of-a-random-forest-d9166011959e) hay una discusión sobre los pros y contras de este método, comparado con permutation feature importance. Si quieren, determinen la importancia de las dos maneras y evalúen cuál de las dos resulta más razonable.\n",
    "\n",
    "### **Opcional: Feature engineering**\n",
    "\n",
    "Trabajar con modelos complejos y ajustar hiperparámetros hace que los cálculos sean bastante pesados. Para acotar los tiempos, pueden dedicar un poco más de esfuerzo a la etapa de feature engineering. Acá hay varias cosas que se pueden hacer. Una de ellas ya la mencionamos en el apartado anterior (eliminar features con poca importancia). Otras opciones pueden ser:\n",
    "\n",
    "- Utilizar Label Encoding en lugar de One-Hot Encoding en las variables categóricas, particularmente en aquellas que tengan varias categorías. Usar Label Encoding para una variable categórica no ordinal puede parecer inadecuado, ya que estamos incorporando una relación ordinal ficticia. Como contraparte, esto nos puede dar una ventaja computacional muy grande. Al reducir el número de features, vamos a poder correr más instancias del modelo, con lo que podríamos explorar más el espacio de hiperparámetros, por ejemplo. Esto puede resultar en un modelo mejor que si hubiésemos utilizado One-Hot Encoding.\n",
    "\n",
    "- Utilizar modelos con features incrementales. La idea acá es arrancar con un modelo con muy pocos features, los que consideren más relevantes. A partir de ese modelo, ir incorporando de a uno nuevos features y evaluar si el modelo mejora o no. Si no hay una mejora significativa, descartar el feature, de manera tal de mantener el modelo fácil de entrenar.\n",
    "\n",
    "\n",
    "### **Opcional: Modelos no basados en árboles**\n",
    "\n",
    "A modo de comparación, pueden repetir lo anterior para algún modelo que no esté basado en árboles. Pueden usar modelos lineales o no lineales, los que quieran. Elijan uno que les parezca más apropiado y busquen maximizar la performance con una búsqueda exhaustiva de hiperparámetros. \n",
    "\n",
    "\n",
    "### **Notas**\n",
    "\n",
    "Para caracterizar el desempeño de los modelos deberán elegir, al igual que en el práctico anterior, una métrica. Pueden utilizar la misma que usaron antes o utilizar una nueva, pero una vez que la elijan, mantengan siempre la misma en todo el proceso.\n",
    "\n"
   ]
  },
  {
   "cell_type": "markdown",
   "metadata": {
    "colab_type": "text",
    "id": "FC_La1ZA3-HU"
   },
   "source": [
    "# Importaciones"
   ]
  },
  {
   "cell_type": "markdown",
   "metadata": {
    "colab_type": "text",
    "id": "Ll7Z09_wGxIf"
   },
   "source": [
    "## Librerías"
   ]
  },
  {
   "cell_type": "code",
   "execution_count": 1,
   "metadata": {
    "ExecuteTime": {
     "end_time": "2020-09-01T00:29:49.567973Z",
     "start_time": "2020-09-01T00:29:44.463908Z"
    },
    "colab": {
     "base_uri": "https://localhost:8080/",
     "height": 182
    },
    "colab_type": "code",
    "id": "onWqYO_aGxIm",
    "outputId": "7f8f29cc-fbc0-45f1-ba1f-3f66655c91c6"
   },
   "outputs": [],
   "source": [
    "#Libs posiblemente faltantes\n",
    "import os\n",
    "import gc\n",
    "import sys\n",
    "import pkg_resources\n",
    "if 'sidetable' not in {pkg.key for pkg in pkg_resources.working_set}:\n",
    "    !pip install sidetable\n",
    "if 'psutil' not in {pkg.key for pkg in pkg_resources.working_set}:\n",
    "    !pip install psutil\n",
    "if 'xgboost' not in {pkg.key for pkg in pkg_resources.working_set}:\n",
    "    !pip install xgboost\n",
    "if 'scikit-learn' not in {pkg.key for pkg in pkg_resources.working_set}:\n",
    "    !pip install scikit-learn\n",
    "in_colab = 'google.colab' in sys.modules"
   ]
  },
  {
   "cell_type": "code",
   "execution_count": 2,
   "metadata": {
    "colab": {
     "base_uri": "https://localhost:8080/",
     "height": 219
    },
    "colab_type": "code",
    "id": "DxsXY8Tx5DG_",
    "jupyter": {
     "source_hidden": true
    },
    "outputId": "bb2f030b-8787-4e6a-f7ac-d905f6a22f93"
   },
   "outputs": [
    {
     "name": "stdout",
     "output_type": "stream",
     "text": [
      "python                        3.6.10\n",
      "matplotlib                        3.2.2\n",
      "numpy                             1.19.0\n",
      "pandas                            1.0.5\n",
      "psutil                            5.7.2\n",
      "scikit-learn                      0.23.2\n",
      "scipy                             1.4.1\n",
      "seaborn                           0.10.1\n",
      "sidetable                         0.5.0\n",
      "xgboost                           1.2.0\n"
     ]
    }
   ],
   "source": [
    "#Vemos versiones\n",
    "from platform import python_version\n",
    "print('python                       ', python_version())\n",
    "!pip list | grep -E \"numpy |pandas |seaborn |psutil |xgboost |scikit-learn |sidetable |scipy |matplotlib \""
   ]
  },
  {
   "cell_type": "code",
   "execution_count": 3,
   "metadata": {
    "colab": {
     "base_uri": "https://localhost:8080/",
     "height": 54
    },
    "colab_type": "code",
    "id": "d6xVkNFkGxJJ",
    "outputId": "610945a3-a0cd-4788-d710-bfc5c28f2bbe"
   },
   "outputs": [],
   "source": [
    "#Resto de libs\n",
    "import psutil\n",
    "import sidetable\n",
    "import numpy as np\n",
    "import scipy as sp\n",
    "import pandas as pd\n",
    "import seaborn as sns\n",
    "from seaborn import heatmap\n",
    "from scipy.stats import norm\n",
    "import matplotlib.pyplot as plt\n",
    "from xgboost import XGBClassifier\n",
    "from IPython.display import display_html\n",
    "from sklearn.naive_bayes import GaussianNB\n",
    "from sklearn.preprocessing import (MinMaxScaler,\n",
    "                                   StandardScaler)\n",
    "from sklearn.tree import (DecisionTreeClassifier)\n",
    "from sklearn.ensemble import RandomForestClassifier\n",
    "from sklearn.linear_model import (Perceptron,\n",
    "                                  SGDClassifier,\n",
    "                                  LogisticRegression)\n",
    "from sklearn.model_selection import (GridSearchCV,\n",
    "                                     RandomizedSearchCV,\n",
    "                                     train_test_split)\n",
    "from sklearn.metrics import (f1_score,\n",
    "                             recall_score,\n",
    "                             roc_auc_score,\n",
    "                             accuracy_score,\n",
    "                             precision_score,\n",
    "                             confusion_matrix,\n",
    "                             balanced_accuracy_score)\n",
    "from sklearn.inspection import permutation_importance"
   ]
  },
  {
   "cell_type": "code",
   "execution_count": 4,
   "metadata": {
    "ExecuteTime": {
     "end_time": "2020-09-01T00:30:03.367669Z",
     "start_time": "2020-09-01T00:30:03.142247Z"
    },
    "colab": {},
    "colab_type": "code",
    "id": "litr22v0GxJh",
    "jupyter": {
     "source_hidden": true
    }
   },
   "outputs": [],
   "source": [
    "#Reproducibilidad\n",
    "np.random.seed(0)\n",
    "\n",
    "#Aesthetic\n",
    "sns.set()\n",
    "plt.rcParams[\"axes.labelweight\"] = \"bold\"\n",
    "plt.rcParams[\"legend.shadow\"]    = True\n",
    "\n",
    "BLUE   = '#5DADE2'\n",
    "RED    = '#ff7043'\n",
    "ORANGE = '#F5B041'\n",
    "GREEN  = '#58D68D'\n",
    "YELLOW = '#F4D03F'\n",
    "\n",
    "pd.options.display.max_columns = 30\n",
    "pd.options.display.max_rows    = 20"
   ]
  },
  {
   "cell_type": "markdown",
   "metadata": {
    "colab_type": "text",
    "id": "6bUY1_eyGxJ0"
   },
   "source": [
    "## Funciones"
   ]
  },
  {
   "cell_type": "code",
   "execution_count": 5,
   "metadata": {
    "ExecuteTime": {
     "end_time": "2020-09-01T00:30:03.138640Z",
     "start_time": "2020-09-01T00:30:03.034639Z"
    },
    "colab": {},
    "colab_type": "code",
    "id": "KJgz2hq6GxJ3",
    "jupyter": {
     "source_hidden": true
    }
   },
   "outputs": [],
   "source": [
    "def CantidadNulos(df, col=None):\n",
    "    '''Imprime la cantidad de nulos en cada columna de df.\n",
    "    Parámetros\n",
    "    ----------\n",
    "    df : DataFrame\n",
    "    \\t Dataframe a analizar nulos.\n",
    "    col: string\n",
    "    \\t Columna específica a analizar.'''\n",
    "    if col in df.columns:\n",
    "        Cur_DropNa(df, col, exc=False)\n",
    "        return\n",
    "    print('\\tCantidad de nulos por columna:')\n",
    "    for cols in df.columns:\n",
    "        Cur_DropNa(df, cols, exc=False)\n",
    "    return\n",
    "\n",
    "def get_null_fraction(df, col):\n",
    "    \"\"\"Fracción nula.\"\"\"\n",
    "    return df[col].isnull().sum() / float(df.shape[0])\n",
    "\n",
    "def get_null_percent(df, col):\n",
    "    \"\"\"Porcentaje nulo.\"\"\"\n",
    "    return 'NULL = {:.2f}%'.format(100*get_null_fraction(df, col))\n",
    "\n",
    "class display_side_by_side(object):\n",
    "    \"\"\"Display HTML representation of multiple objects.\"\"\"\n",
    "    template = \"\"\"<div style=\"float: left; padding: 10px;\">\n",
    "    <p style='font-family:\"Courier New\", Courier, monospace'>{0}</p>{1}\n",
    "    </div>\"\"\"\n",
    "    def __init__(self, *args):\n",
    "        self.args = args\n",
    "        \n",
    "    def _repr_html_(self):\n",
    "        return '\\n'.join(self.template.format(a, eval(a)._repr_html_())\n",
    "                         for a in self.args)\n",
    "    \n",
    "    def __repr__(self):\n",
    "        return '\\n\\n'.join(a + '\\n' + repr(eval(a))\n",
    "                           for a in self.args)\n",
    "    \n",
    "def Memory():\n",
    "    \"\"\"Imprime la cantidad de memoria RAM utilizada por el proceso \n",
    "    hasta el momento, en GB\"\"\"\n",
    "    gc.collect()\n",
    "    process = psutil.Process(os.getpid())\n",
    "    print('Memoria actual utilizada: %.2f GB' %(process.memory_full_info().rss*1e-9))\n",
    "    return\n",
    "\n",
    "\n",
    "def Ploteo(Tot, Dif, name=None, h: bool=False, size=(20,5), row: bool=True, order=None, yticks: bool=False):\n",
    "    \"\"\"Función para plotear las tablas 'Tot' y 'Dif' (Provenientes de 'Tablas')\n",
    "    Parámetros\n",
    "    ----------\n",
    "    Tot : DataFrame\n",
    "    \\t Dataframe con los porcentajes totales.\n",
    "    Dif : DataFrame\n",
    "    \\t Dataframe con los porcentajes diferenciados.\n",
    "    name : string, optional (Default = str(col))\n",
    "    \\t Nombre a colocar en el eje principal.\n",
    "    h : bool, optional (Default = False)\n",
    "    \\t Si el barplot es horizontal o no.\n",
    "    size : tuple, optional (Default = (20,5))\n",
    "    \\t Tamaño de la figura.\n",
    "    row : bool, optional(Default = True)\n",
    "    \\t Si la figura posee 3 columnas (True) o 3 filas (False).\n",
    "    order : list, optional (Default=np.sort(values))\n",
    "    \\t El orden de ploteo de los valores.\n",
    "    yticks : bool, optional (Default=False)\n",
    "    \\t Si plotear o no los ticks en caso de que h==True.\n",
    "    \"\"\"\n",
    "    col = Tot.index.name\n",
    "    if not name:\n",
    "        name = str(col)\n",
    "    if not order:\n",
    "        order = Tot.index\n",
    "    elif order==True:\n",
    "        order = np.sort(Tot.index)\n",
    "    kind  = 'bar'\n",
    "    if h:\n",
    "        kind  = 'barh'\n",
    "        order = order[::-1]\n",
    "    if row:\n",
    "        fig, ax = plt.subplots(1,3, figsize=size)\n",
    "    else:\n",
    "        fig, ax = plt.subplots(3,1, figsize=size)\n",
    "    Tot.Porcentaje[order].plot(kind=kind, color=BLUE, ax=ax[0], label='Todos')\n",
    "    Dif.Porcentaje.unstack(level=1).loc[order].plot(kind=kind, subplots=False, color=[RED, ORANGE], ax=ax[1])\n",
    "    Tot.Ausentismo[order].plot(kind=kind, color=GREEN, ax=ax[2])\n",
    "    if not h:\n",
    "        plt.setp(ax[0], ylabel='Frecuencia')\n",
    "        plt.setp([ax[0],ax[1],ax[2]], xlabel=name)\n",
    "        ax[0].set_xticklabels(ax[0].get_xticklabels(), rotation=0)\n",
    "        ax[1].set_xticklabels(ax[1].get_xticklabels(), rotation=0)\n",
    "        ax[2].set_xticklabels(ax[2].get_xticklabels(), rotation=0)\n",
    "    else:\n",
    "        plt.setp([ax[0], ax[1], ax[2]], xlabel='Frecuencia')\n",
    "        plt.setp(ax[0], ylabel=name)\n",
    "        plt.setp([ax[1], ax[2]], ylabel='')\n",
    "        if not yticks:\n",
    "            ax[1].set_yticklabels('')\n",
    "            ax[2].set_yticklabels('')\n",
    "    ax[0].legend(loc=(1,1), bbox_to_anchor=(0.4, 1.05))\n",
    "    ax[1].legend(loc=(1,1), bbox_to_anchor=(0.2, 1.05),  ncol=2)\n",
    "    ax[2].legend(loc=(1,1), bbox_to_anchor=(0.35, 1.05))\n",
    "    plt.show()\n",
    "    \n",
    "def Porcent(x):\n",
    "    \"\"\"Devuelve un string pasando de ratio a porcentaje.\"\"\"\n",
    "    return \"%.2f%%\"%(x*100)\n",
    "                        \n",
    "def Tablas(df, col, order=None, name=None):\n",
    "    \"\"\"Función para generar tablas 'Total' y 'Diferenciado'.\n",
    "    Parámetros\n",
    "    ----------\n",
    "    df  : DataFrame\n",
    "    \\t Dataframe con los datos.\n",
    "    col : string\n",
    "    \\t Nombre de la columna a operar.\n",
    "    order : list, optional (Default=\"Mayor a menor frecuencia\")\n",
    "    \\t Lista con el order de los índices de las tablas.\n",
    "    name : string, optional (Default=str(col))\n",
    "    \\t Nombre a introducir en como título de las tablas.\n",
    "    \"\"\"\n",
    "    if not name:\n",
    "        name = str(col)\n",
    "    Values = df[col].value_counts()\n",
    "    if not order:\n",
    "        order = Values.index\n",
    "    elif order==True:\n",
    "        order = np.sort(df[col].unique())\n",
    "    Diferen = pd.DataFrame(df[[col, 'EstadoDelTurno']].groupby([col, 'EstadoDelTurno']).size()).rename(\n",
    "        columns={0: 'Cantidad'}).reindex(order, level=0)\n",
    "    Diferen['Porcentaje'] = Diferen.Cantidad.div(Diferen.Cantidad.sum(level=0), level=0)\n",
    "    Ausent  = Diferen.unstack().Cantidad.Ausente.div(Diferen.unstack().Cantidad.Atendido)\n",
    "    Values  = Values.loc[order]\n",
    "    ValuesN = df[col].value_counts(normalize=True).loc[order]\n",
    "    Total   = pd.concat([Values.rename('Cantidad'), \n",
    "                         ValuesN.rename('Porcentaje'), \n",
    "                         Values.cumsum().rename('Cant_Acum'), \n",
    "                         ValuesN.cumsum().rename('Porcent_Acumu'), \n",
    "                         Ausent.rename('Ausentismo')], axis=1).rename_axis(name)\n",
    "    return Total, Diferen\n",
    "\n",
    "def get_metrics_train_test(y_true_train, y_pred_train, y_true_test, y_pred_test):\n",
    "    print('Conjunto de entrenamiento:')\n",
    "    display(get_metrics(y_true_train, y_pred_train).T.applymap(\"{0:.2%}\".format))\n",
    "    print('\\nConjunto de evaluación:')\n",
    "    display(get_metrics(y_true_test, y_pred_test).T.applymap(\"{0:.2%}\".format))\n",
    "    return\n",
    "    \n",
    "def get_metrics(y_true, y_pred, index='Valor'):\n",
    "    \"\"\"Devuelve un DataFrame con accuracy, precision, recall y f1-score.\"\"\"\n",
    "    accuracy     = accuracy_score(y_true, y_pred)\n",
    "    bal_accuracy = balanced_accuracy_score(y_true, y_pred)\n",
    "    precision    = precision_score(y_true, y_pred)\n",
    "    precision    = precision_score(y_true, y_pred)\n",
    "    recall       = recall_score(y_true, y_pred)\n",
    "    f1           = f1_score(y_true, y_pred)\n",
    "    roc_auc      = roc_auc_score(y_true, y_pred)\n",
    "    df           = pd.DataFrame(data=[[accuracy, bal_accuracy,\n",
    "                                       precision, recall, f1, roc_auc]],\n",
    "                    columns=['Accuracy', 'Balanced Accuracy', 'Precision',\n",
    "                             'Recall', 'F1-Score', 'AUC_ROC'],\n",
    "                    index=[index])\n",
    "    return df\n",
    "\n",
    "def get_metrics_comparison(y_true, y_predictions, models):\n",
    "    metrics_list = []\n",
    "    for y_pred, model in zip(y_predictions, models):\n",
    "        df_y       = get_metrics(y_true, y_pred)\n",
    "        df_y.index = [model]\n",
    "        metrics_list.append(df_y)\n",
    "    df_metrics = pd.concat(metrics_list)\n",
    "    display(df_metrics.style.background_gradient(low=0, high=1, cmap='Greens', axis=0))\n",
    "    return\n",
    "\n",
    "# def get_confusion_matrix(y_true, y_pred):\n",
    "#     \"\"\"Devuelve un DataFrame con la matriz de confusión.\"\"\"    \n",
    "#     cm = confusion_matrix(y_true, y_pred, labels=[0, 1]).transpose()\n",
    "#     df = pd.DataFrame(\n",
    "#         cm, \n",
    "#         columns=['Actual - Atendido', 'Actual - Ausente'],\n",
    "#         index=['Predicted - Atendido', 'Predicted - Ausente'])\n",
    "#     df.loc['Total'] = df.sum()  # Agrego fila de totales\n",
    "#     df['Total']     = df.sum(axis=1)  # Agrego columna de totales\n",
    "#     df              = df.applymap(\"{:,}\".format)\n",
    "#     return df\n",
    "\n",
    "def Cur_Lim(df, col=None, Min=None, Max=None, inplace: bool=False,\n",
    "           exc: bool=True, ret: bool=None):\n",
    "    '''Función para remover valores numéricos por encima de \"Min\",\n",
    "    y por encima de \"Max\".\n",
    "    Parámetros:\n",
    "    -----------\n",
    "    Min    : Valor límite inferior. (float/int - Default:18)\n",
    "    Max    : Valor límite superior. (float/int - Default:150)\n",
    "    col    : Columna a trabajar. (string - Default:None)\n",
    "    inplace: Sobreescribir DataFrame. (bool - Default:False)\n",
    "    exc    : Elevar exception. [Opcional] (bool - Default:True)\n",
    "    ret    : Devolver DataFrame sin eliminados (0) o \n",
    "             solamente ellos (1). [Opcional] (bool - Default:None).\n",
    "    '''\n",
    "    if not col:\n",
    "        verb = 'Especifique columna.'\n",
    "        if exc:\n",
    "            raise Exception(verb)\n",
    "        return print(verb)\n",
    "    if col not in df.columns:\n",
    "        verb = 'La columna {} no es válida.'.format(col)\n",
    "        if exc:\n",
    "            raise Exception(verb)\n",
    "        return print(verb)\n",
    "    if (not Min) and (not Max):\n",
    "        print('No se introdujeron límites para {}.'.\n",
    "              format(col))\n",
    "        print('Límites:'\n",
    "              '\\n Mín: {}'\n",
    "              '\\n Máx: {}'.format(\n",
    "              df[col].min(), df[col].max()))\n",
    "        verb = 'Especifique al menos un límite.'\n",
    "        if exc:\n",
    "            raise Exception(verb)\n",
    "        return print(verb)\n",
    "    if ret not in [None, 1, 0]:\n",
    "        verb = 'Especifique un parámetro de devolución' \\\n",
    "               ' permitido. [None, 1, 0]'\n",
    "        if exc:\n",
    "            raise Exception(verb)\n",
    "        return print(verb)\n",
    "    a   = len(df)\n",
    "    Min = df[col].min() if not Min else Min\n",
    "    Max = df[col].max() if not Max else Max\n",
    "    Rem = df[(df[col]<Min) | (df[col]>Max)]\n",
    "    if len(Rem)==0:\n",
    "        verb = 'No hay valores a eliminar en la columnas'\\\n",
    "               ' {} fuera de límites: [{}, {}]'.format(\n",
    "                   col, Min, Max)\n",
    "        if exc:\n",
    "            raise Exception(verb)\n",
    "        return print(verb)\n",
    "    b   = df.drop(Rem.index, inplace=inplace)\n",
    "    print('Curación de columna {} aplicada con límites:' \\\n",
    "          '[{:d}, {:d}]'.format(col, Min, Max))\n",
    "    if not inplace:\n",
    "        print('\\tA remover: {:d} filas. (=={:.2f}%)'.format(\n",
    "            a-len(b), (1-len(b)/a)*100))\n",
    "        if ret==None:\n",
    "            return \n",
    "        return Rem if ret else b\n",
    "    print('\\tRemovidas: {:d} filas. (=={:.2f}%)'.format(\n",
    "        a-len(df), (1-len(df)/a)*100))\n",
    "    if ret==None:\n",
    "        return \n",
    "    return Rem if ret else b\n",
    "\n",
    "def Cur_Drop(df, col=None, val=None, re: bool=True, inplace: bool=False,\n",
    "           exc: bool=True, ret: bool=None):\n",
    "    '''Función para remover entradas con valor \"val\" en la columna \"col\".\n",
    "    Parámetros:\n",
    "    -----------\n",
    "    val    : Valor a intercambiar. (string - Default:None)\n",
    "    col    : Columna a trabajar. (string - Default:None)\n",
    "    re     : Búsqueda por regex. (bool  - Default:True)\n",
    "    inplace: Sobreescribir DataFrame. (bool - Default:False)\n",
    "    exc    : Elevar exception. [Opcional] (bool - Default:True)\n",
    "    ret    : Devolver DataFrame sin eliminados (0) o \n",
    "             solamente ellos (1). [Opcional] (bool - Default:None).\n",
    "    '''\n",
    "    if not col:\n",
    "        verb = 'Especifique columna.'\n",
    "        if exc:\n",
    "            raise Exception(verb)\n",
    "        return print(verb)\n",
    "    if col not in df.columns:\n",
    "        verb = 'La columna {} no es válida.'.format(col)\n",
    "        if exc:\n",
    "            raise Exception(verb)\n",
    "        return print(verb)\n",
    "    if not val:\n",
    "        verb = 'Especifique valor.'\n",
    "        if exc:\n",
    "            raise Exception(verb)\n",
    "        return print(verb)\n",
    "    if ret not in [None, 1, 0]:\n",
    "        verb = 'Especifique un parámetro de devolución' \\\n",
    "               ' permitido. [1, 0]'\n",
    "        if exc:\n",
    "            raise Exception(verb)\n",
    "        return print(verb)\n",
    "    a = len(df)\n",
    "    if not re:\n",
    "        VAL = [val in s for s in df[col]]\n",
    "        Rem = df[VAL]\n",
    "        if len(Rem)==0:\n",
    "            verb = 'No hay aciertos de {} en {}.'.format(val, col)\n",
    "            if exc:\n",
    "                raise Exception(verb)\n",
    "            return print(verb)\n",
    "        b   = df.drop(Rem.index, inplace=inplace)\n",
    "    else:\n",
    "        if val not in df[col].unique():\n",
    "            verb = '{} no se encuentra en' \\\n",
    "                   ' la columna {}.'.format(val, col)\n",
    "            if exc:\n",
    "                raise Exception(verb)\n",
    "            return print(verb)\n",
    "        Rem = df[df[col]==val]\n",
    "        b   = df.drop(Rem.index, inplace=inplace)\n",
    "    print('Curación {} valor {} en columna {:s} aplicada.'\n",
    "          .format(('de' if re else 'incluyendo'), val, col))\n",
    "    if not inplace:\n",
    "        print('\\tA remover: {:d} filas. (=={:.2f}%)'.format(\n",
    "            a-len(b), (1-len(b)/a)*100))\n",
    "        if ret==None:\n",
    "            return \n",
    "        return Rem if ret else b\n",
    "    print('\\tRemovidas: {:d} filas. (=={:.2f}%)'.format(\n",
    "        a-len(df), (1-len(df)/a)*100))\n",
    "    if ret==None:\n",
    "        return \n",
    "    return Rem if ret else b\n",
    "\n",
    "def Cur_DropNa(df, col=None, inplace: bool=False, exc: bool=True, \n",
    "              ND='No Definido', ret: bool=None):\n",
    "    '''Función para remover entradas con valor nulo en la columna \"col\".\n",
    "    Parámetros:\n",
    "    -----------\n",
    "    col    : Columna a trabajar. (string - Default:None)\n",
    "    inplace: Sobreescribir DataFrame. (bool - Default:False)\n",
    "    exc    : Elevar exception. [Opcional] (bool - Default:True)\n",
    "    ND     : Valor referido a Nulo en cuanto a columna tipo \"Objeto\".\n",
    "             [Opcional] (string/int/float - Default:'No Definido')\n",
    "    ret    : Devolver DataFrame sin eliminados (0) o \n",
    "             solamente ellos (1). [Opcional] (bool - Default:None).\n",
    "    '''\n",
    "    if not col:\n",
    "        verb = 'Especifique columna.'\n",
    "        if exc:\n",
    "            raise Exception(verb)\n",
    "        return print(verb)\n",
    "    if col not in df.columns:\n",
    "        verb = 'La columna {} no es válida.'.format(col)\n",
    "        if exc:\n",
    "            raise Exception(verb)\n",
    "        return print(verb)\n",
    "    n = df[col] == ND if df[col].dtype == 'O' else df[col].isnull()\n",
    "    if n.sum()==0:\n",
    "        verb = 'La columna {} no posee valores nulos.'.format(col)\n",
    "        if exc:\n",
    "            raise Exception(verb)\n",
    "        return print(verb)\n",
    "    a   = len(df)\n",
    "    Rem = df[n]\n",
    "    b   = df.drop(Rem.index, inplace=inplace)\n",
    "    print('Curación de Nulos en columna {:s} aplicada.'.format(col))\n",
    "    if not inplace:\n",
    "        print('\\tA remover: {:d} filas. (=={:.2f}%)'.format(\n",
    "            a-len(b), (1-len(b)/a)*100))\n",
    "        if ret==None:\n",
    "            return \n",
    "        return Rem if ret else b\n",
    "    print('\\tRemovidas: {:d} filas. (=={:.2f}%)'.format(\n",
    "        a-len(df), (1-len(df)/a)*100))\n",
    "    if ret==None:\n",
    "        return \n",
    "    return Rem if ret else b\n",
    "\n",
    "def Binarizer(df, col=None, unique=None, re: bool=True, exc: bool=True,\n",
    "              merge: bool=True, text: bool=True, name=None, drop: bool=False):\n",
    "    '''Función para binarizar en [0, 1] las entradas \n",
    "    de la columna \"col\". Si se especifica un valor (unique),\n",
    "    se reemplazará por 0, y al resto 1; de lo contrario, se \n",
    "    binarizará en [0, 1] a los 2 valores pre-existentes de \"col\".\n",
    "    Parámetros:\n",
    "    -----------\n",
    "    col    : Columna a binarizar. (str - Default:None)\n",
    "    unique : Valor a setear en 1. (str/float/int - Default:None)\n",
    "    re     : Búsqueda por regex. (bool  - Default:True)\n",
    "    exc    : Elevar exception. [Opcional] (bool - Default:True)\n",
    "    merge  : Devolver DataFrame/Series binario creado (0) o el merge\n",
    "             con el DataFrame original (1). \n",
    "             [Opcional] (bool - Default:True).\n",
    "    text   : Imprimir el proceso realizado.\n",
    "    name   : Nombre a asignar a la columna creada.\n",
    "    drop   : Eliminar la columna fuente utilizada para binarizar.\n",
    "    '''\n",
    "    if not col:\n",
    "        verb = 'Especifique columna.'\n",
    "        if exc:\n",
    "            raise Exception(verb)\n",
    "        return print(verb)\n",
    "    if col not in df.columns:\n",
    "        verb = 'La columna {} no es válida.'.format(col)\n",
    "        if exc:\n",
    "            raise Exception(verb)\n",
    "        return print(verb)\n",
    "    vals = df[col].unique()\n",
    "    if not unique:\n",
    "        if len(vals)!=2:\n",
    "            verb = 'La columna introducida posee {} clases (!=2)'.format(\n",
    "                len(vals))\n",
    "            if exc:\n",
    "                raise Exception(verb)\n",
    "            return print(verb)\n",
    "        if name is None: name = col+'_'+str(vals[0])\n",
    "        if name in df.columns:\n",
    "            verb = 'La columna {} ya existe'.format(name)\n",
    "            if exc:\n",
    "                raise Exception(verb)\n",
    "            return print(verb)\n",
    "        new  = df[col].replace(\n",
    "            {vals[0]: 1, vals[1]: 0}).rename(name)\n",
    "        if text:\n",
    "            print('Reemplazo:'\n",
    "                  '\\n 1 = {} ({:.2f}%)'\n",
    "                  '\\n 0 = {}'.\n",
    "                  format(vals[0], new.sum()*100/len(df),\n",
    "                         vals[1]))\n",
    "    else:\n",
    "        if name is None: name = col+'_'+str(unique)\n",
    "        if name in df.columns:\n",
    "            verb = 'La columna {} ya existe'.format(name)\n",
    "            if exc:\n",
    "                raise Exception(verb)\n",
    "            return print(verb)\n",
    "        if re:\n",
    "            if unique not in vals:\n",
    "                verb = '{} no se encuentra en la columna {}.'.format(\n",
    "                    unique, col)\n",
    "                if exc:\n",
    "                    raise Exception(verb)\n",
    "                return print(verb)\n",
    "            val = df[col] == unique\n",
    "            can = sum(val)\n",
    "        else:\n",
    "            val = [unique in s for s in df[col]]\n",
    "            can = sum(val)\n",
    "            if can==0:\n",
    "                verb = 'La expresión {} no se encuentra en ningúna' \\\n",
    "                        ' entrada de la columna {}.'.format(unique, col)\n",
    "                if exc:\n",
    "                    raise Exception(verb)\n",
    "                return print(verb)\n",
    "        new = df[col].copy().rename(name)\n",
    "        new.loc[np.asarray(val)]  = 1\n",
    "        new.loc[~np.asarray(val)] = 0\n",
    "        if text:\n",
    "            print('Reemplazo:'\n",
    "                  '\\n 1 = {} ({:.2f}%)'\n",
    "                  '\\n 0 = Resto'.format(\n",
    "                      unique, can*100/len(df)))\n",
    "    print('Columna {} creada'.format(name))\n",
    "    if not merge: return new.astype('uint8')\n",
    "    if drop: \n",
    "        print('Se elimina columna {}'.format(col))\n",
    "        return df.merge(new.astype('uint8'), left_index=True,\n",
    "                        right_index=True).drop(col, axis=1)\n",
    "    return df.merge(new.astype('uint8'),\n",
    "           left_index=True,right_index=True)\n",
    "\n",
    "def BinarAll(df, cols=None, exc: bool=True, merge: bool=False,\n",
    "             text: bool=True, fast: bool=True):\n",
    "    '''Función para binarizar en [0, 1] TODAS las entradas \n",
    "    de la columna \"col\".\n",
    "    Parámetros:\n",
    "    -----------\n",
    "    cols   : Columna(s) a binarizar. (str/list - Default:None)\n",
    "    exc    : Elevar exception. [Opcional] (bool - Default:True)\n",
    "    merge  : Devolver DataFrame/Series binario creado (1) o el merge\n",
    "             con el DataFrame original (0). \n",
    "             [Opcional] (bool - Default:None).\n",
    "    text   : Imprimir el proceso realizado.\n",
    "    fast   : Método rápido. [Opcional] (bool - Default:True)\n",
    "    '''\n",
    "    if not cols:\n",
    "        verb = 'Especifique columna(s).'\n",
    "        if exc:\n",
    "            raise Exception(verb)\n",
    "        return print(verb)\n",
    "    cols = list(cols)\n",
    "    for col in cols:\n",
    "        if col not in df.columns:\n",
    "            verb = 'La columna {} no es válida.'.format(col)\n",
    "            if exc:\n",
    "                raise Exception(verb)\n",
    "            return print(verb)\n",
    "    if merge:\n",
    "        return pd.get_dummies(df, columns=cols)\n",
    "    if fast:\n",
    "        extra = [cl for cl in df.columns if cl not in cols]\n",
    "        return pd.get_dummies(\n",
    "            df, columns=cols).drop(columns=extra, axis=1)\n",
    "    for col in cols:\n",
    "        vals = df[col].unique()\n",
    "        if 'sr' not in locals():\n",
    "            print('First')\n",
    "            sr = Binarizer(df, col=col, unique=vals[0], exc=exc,\n",
    "                           text=text).astype('uint8')\n",
    "        for val in vals[1:]:\n",
    "            sr = pd.concat([sr, Binarizer(\n",
    "                    df, col=col, unique=val, exc=exc,\n",
    "                    text=text).astype('uint8')], axis=1)\n",
    "    return sr\n",
    "\n",
    "def HM(y_real, y_pred, ax=None, cmap='Greys', normalize=None):\n",
    "    '''Plot simple de heatmap.'''\n",
    "    kwargs = dict(annot=True, linewidths=1.2, square=True,\n",
    "                   linecolor='black', cbar=False, cmap=cmap,\n",
    "                   annot_kws={\"weight\":'bold', \"size\":'15'}, ax=ax)\n",
    "    if normalize: return heatmap(confusion_matrix(y_real, y_pred,\n",
    "                            normalize=normalize), fmt='.3f', **kwargs)\n",
    "    return heatmap(confusion_matrix(y_real, y_pred,\n",
    "                            normalize=normalize), fmt='d', **kwargs)\n",
    "\n",
    "def PlotHM(y_train, y_train_pred, y_test, y_test_pred, size=(10,6), cmap='Greys', \n",
    "           Title='Título', normalize=None):\n",
    "    '''Plotea las 2 matrices de confusión (Entrenamiento y Prueba),\n",
    "    dados los Target y sus predicciones (Train y Test).'''\n",
    "    plt.figure(figsize=size)\n",
    "    plt.suptitle(Title, y=.93)\n",
    "    plt.subplot(1,2,1)\n",
    "    plt.title('Entrenamiento')\n",
    "    ax1 = HM(y_train, y_train_pred, cmap=cmap, normalize=normalize)\n",
    "    plt.ylabel('Real', fontsize=15)\n",
    "    plt.subplot(1,2,2)\n",
    "    plt.title('Prueba')\n",
    "    ax2  = HM(y_test, y_test_pred, cmap=cmap, normalize=normalize)\n",
    "    plt.setp([ax1.get_xticklabels(), ax2.get_xticklabels()], rotation=0, weight='bold')\n",
    "    plt.setp([ax1.get_yticklabels(), ax2.get_yticklabels()], rotation=0, weight='bold')\n",
    "    plt.setp([ax1.set_xlabel('Predecido'), ax2.set_xlabel('Predecido')], fontsize=15)\n",
    "    if normalize: \n",
    "        [t.set_text(t.get_text() + \" %\") for t in ax1.texts]\n",
    "        [t.set_text(t.get_text() + \" %\") for t in ax2.texts]\n",
    "    plt.show()"
   ]
  },
  {
   "cell_type": "code",
   "execution_count": 6,
   "metadata": {},
   "outputs": [],
   "source": [
    "def get_metrics(y_true, y_pred):\n",
    "    \"\"\"Devuelve un DataFrame con accuracy, precision, recall y f1-score\n",
    "    \"\"\"\n",
    "    \n",
    "    accuracy = accuracy_score(y_true, y_pred)\n",
    "    bal_accuracy = balanced_accuracy_score(y_true, y_pred)\n",
    "    precision = precision_score(y_true, y_pred)\n",
    "    recall = recall_score(y_true, y_pred)\n",
    "    f1 = f1_score(y_true, y_pred)\n",
    "    df = pd.DataFrame(\n",
    "        data=[[accuracy, bal_accuracy, precision, recall, f1]],\n",
    "        columns=['Accuracy', 'Balanced Accuracy', 'Precision', 'Recall', 'F1-Score']\n",
    "    ).applymap(\"{0:.2%}\".format)\n",
    "    return df\n",
    "\n",
    "def get_metrics_train_test(y_true_train, y_pred_train, y_true_test, y_pred_test):\n",
    "    print('Conjunto de entrenamiento:')\n",
    "    display(get_metrics(y_true_train, y_pred_train))\n",
    "    print('\\nConjunto de evaluación:')\n",
    "    display(get_metrics(y_true_test, y_pred_test))\n",
    "\n",
    "def get_confusion_matrix(y_true, y_pred):\n",
    "    \"\"\"Devuelve un DataFrame con la matriz de confusión\n",
    "    \"\"\"\n",
    "    \n",
    "    cm = confusion_matrix(y_true, y_pred, labels=[0, 1]).transpose()\n",
    "    df = pd.DataFrame(\n",
    "        cm, \n",
    "        columns=['Actual - Atendido', 'Actual - Ausente'],\n",
    "        index=['Predicted - Atendido', 'Predicted - Ausente']\n",
    "    )\n",
    "    df.loc['Total']= df.sum()  # Agrego fila de totales\n",
    "    df['Total'] = df.sum(axis=1)  # Agrego columna de totales\n",
    "    df = df.applymap(\"{:,}\".format)\n",
    "    \n",
    "    return df"
   ]
  },
  {
   "cell_type": "code",
   "execution_count": 7,
   "metadata": {
    "colab": {
     "base_uri": "https://localhost:8080/",
     "height": 35
    },
    "colab_type": "code",
    "id": "fNU2Bj_ZGxKM",
    "outputId": "cca2577a-6173-43a7-8eea-774f006a0be7"
   },
   "outputs": [
    {
     "name": "stdout",
     "output_type": "stream",
     "text": [
      "Memoria actual utilizada: 0.15 GB\n"
     ]
    }
   ],
   "source": [
    "Memory()"
   ]
  },
  {
   "cell_type": "markdown",
   "metadata": {
    "colab_type": "text",
    "id": "9pYvZnlhGxKj"
   },
   "source": [
    "## Dataset"
   ]
  },
  {
   "cell_type": "code",
   "execution_count": 8,
   "metadata": {
    "ExecuteTime": {
     "end_time": "2020-09-01T00:30:21.412874Z",
     "start_time": "2020-09-01T00:30:03.370833Z"
    },
    "colab": {},
    "colab_type": "code",
    "id": "l3-bZPcKGxKo"
   },
   "outputs": [],
   "source": [
    "if in_colab:\n",
    "  data_dir = \"https://github.com/Gianuzzi/Ausentismo-DD2020-Final/raw/master/data/\"\n",
    "else:\n",
    "  data_dir = os.path.join(os.getcwd(), '..', '..', 'data')\n",
    "df       = pd.read_csv(os.path.join(data_dir, 'dataset_recurado_IAA.zip'))\n",
    "size     = len(df)\n",
    "scol     = len(df.columns)"
   ]
  },
  {
   "cell_type": "code",
   "execution_count": 9,
   "metadata": {},
   "outputs": [
    {
     "data": {
      "text/html": [
       "<div>\n",
       "<style scoped>\n",
       "    .dataframe tbody tr th:only-of-type {\n",
       "        vertical-align: middle;\n",
       "    }\n",
       "\n",
       "    .dataframe tbody tr th {\n",
       "        vertical-align: top;\n",
       "    }\n",
       "\n",
       "    .dataframe thead th {\n",
       "        text-align: right;\n",
       "    }\n",
       "</style>\n",
       "<table border=\"1\" class=\"dataframe\">\n",
       "  <thead>\n",
       "    <tr style=\"text-align: right;\">\n",
       "      <th></th>\n",
       "      <th>Edad</th>\n",
       "      <th>DifEnDias</th>\n",
       "      <th>Prec_mm</th>\n",
       "      <th>Tmed</th>\n",
       "      <th>Sexo_F</th>\n",
       "      <th>SobreTurno</th>\n",
       "      <th>Ausente</th>\n",
       "      <th>CentroDeAtencion_1</th>\n",
       "      <th>CentroDeAtencion_2</th>\n",
       "      <th>CentroDeAtencion_3</th>\n",
       "      <th>CentroDeAtencion_4</th>\n",
       "      <th>PrestadorAgrupado_DASPU</th>\n",
       "      <th>PrestadorAgrupado_GALENO ARGENTINA SA</th>\n",
       "      <th>PrestadorAgrupado_IOSFA</th>\n",
       "      <th>PrestadorAgrupado_MEDIFE ASOCIACIÓN CIVIL</th>\n",
       "      <th>...</th>\n",
       "      <th>Lluvia_Nula</th>\n",
       "      <th>Lluvia_Torrencial</th>\n",
       "      <th>Temperatura_Caluroso</th>\n",
       "      <th>Temperatura_Frío</th>\n",
       "      <th>Temperatura_Muy caluroso</th>\n",
       "      <th>Temperatura_Muy frío</th>\n",
       "      <th>Temperatura_Templado</th>\n",
       "      <th>DifEnDias_SS</th>\n",
       "      <th>Prec_mm_SS</th>\n",
       "      <th>Tmed_SS</th>\n",
       "      <th>Edad_SS</th>\n",
       "      <th>DifEnDias_MM</th>\n",
       "      <th>Prec_mm_MM</th>\n",
       "      <th>Tmed_MM</th>\n",
       "      <th>Edad_MM</th>\n",
       "    </tr>\n",
       "  </thead>\n",
       "  <tbody>\n",
       "    <tr>\n",
       "      <th>823417</th>\n",
       "      <td>50</td>\n",
       "      <td>0</td>\n",
       "      <td>0.0</td>\n",
       "      <td>17</td>\n",
       "      <td>0</td>\n",
       "      <td>0</td>\n",
       "      <td>0</td>\n",
       "      <td>1</td>\n",
       "      <td>0</td>\n",
       "      <td>0</td>\n",
       "      <td>0</td>\n",
       "      <td>0</td>\n",
       "      <td>0</td>\n",
       "      <td>0</td>\n",
       "      <td>1</td>\n",
       "      <td>...</td>\n",
       "      <td>1</td>\n",
       "      <td>0</td>\n",
       "      <td>0</td>\n",
       "      <td>0</td>\n",
       "      <td>0</td>\n",
       "      <td>0</td>\n",
       "      <td>1</td>\n",
       "      <td>-0.956373</td>\n",
       "      <td>-0.254583</td>\n",
       "      <td>0.092639</td>\n",
       "      <td>0.381736</td>\n",
       "      <td>0.000000</td>\n",
       "      <td>0.0</td>\n",
       "      <td>0.566667</td>\n",
       "      <td>0.380952</td>\n",
       "    </tr>\n",
       "    <tr>\n",
       "      <th>171493</th>\n",
       "      <td>43</td>\n",
       "      <td>0</td>\n",
       "      <td>0.0</td>\n",
       "      <td>2</td>\n",
       "      <td>1</td>\n",
       "      <td>1</td>\n",
       "      <td>0</td>\n",
       "      <td>1</td>\n",
       "      <td>0</td>\n",
       "      <td>0</td>\n",
       "      <td>0</td>\n",
       "      <td>0</td>\n",
       "      <td>0</td>\n",
       "      <td>0</td>\n",
       "      <td>0</td>\n",
       "      <td>...</td>\n",
       "      <td>1</td>\n",
       "      <td>0</td>\n",
       "      <td>0</td>\n",
       "      <td>0</td>\n",
       "      <td>0</td>\n",
       "      <td>1</td>\n",
       "      <td>0</td>\n",
       "      <td>-0.956373</td>\n",
       "      <td>-0.254583</td>\n",
       "      <td>-2.444831</td>\n",
       "      <td>-0.059159</td>\n",
       "      <td>0.000000</td>\n",
       "      <td>0.0</td>\n",
       "      <td>0.066667</td>\n",
       "      <td>0.297619</td>\n",
       "    </tr>\n",
       "    <tr>\n",
       "      <th>650558</th>\n",
       "      <td>18</td>\n",
       "      <td>12</td>\n",
       "      <td>0.0</td>\n",
       "      <td>5</td>\n",
       "      <td>1</td>\n",
       "      <td>0</td>\n",
       "      <td>1</td>\n",
       "      <td>1</td>\n",
       "      <td>0</td>\n",
       "      <td>0</td>\n",
       "      <td>0</td>\n",
       "      <td>0</td>\n",
       "      <td>0</td>\n",
       "      <td>0</td>\n",
       "      <td>1</td>\n",
       "      <td>...</td>\n",
       "      <td>1</td>\n",
       "      <td>0</td>\n",
       "      <td>0</td>\n",
       "      <td>0</td>\n",
       "      <td>0</td>\n",
       "      <td>1</td>\n",
       "      <td>0</td>\n",
       "      <td>0.201959</td>\n",
       "      <td>-0.254583</td>\n",
       "      <td>-1.937337</td>\n",
       "      <td>-1.633784</td>\n",
       "      <td>0.187500</td>\n",
       "      <td>0.0</td>\n",
       "      <td>0.166667</td>\n",
       "      <td>0.000000</td>\n",
       "    </tr>\n",
       "    <tr>\n",
       "      <th>831297</th>\n",
       "      <td>40</td>\n",
       "      <td>3</td>\n",
       "      <td>0.0</td>\n",
       "      <td>27</td>\n",
       "      <td>0</td>\n",
       "      <td>0</td>\n",
       "      <td>0</td>\n",
       "      <td>0</td>\n",
       "      <td>0</td>\n",
       "      <td>0</td>\n",
       "      <td>1</td>\n",
       "      <td>0</td>\n",
       "      <td>0</td>\n",
       "      <td>0</td>\n",
       "      <td>0</td>\n",
       "      <td>...</td>\n",
       "      <td>1</td>\n",
       "      <td>0</td>\n",
       "      <td>0</td>\n",
       "      <td>0</td>\n",
       "      <td>1</td>\n",
       "      <td>0</td>\n",
       "      <td>0</td>\n",
       "      <td>-0.666790</td>\n",
       "      <td>-0.254583</td>\n",
       "      <td>1.784285</td>\n",
       "      <td>-0.248114</td>\n",
       "      <td>0.046875</td>\n",
       "      <td>0.0</td>\n",
       "      <td>0.900000</td>\n",
       "      <td>0.261905</td>\n",
       "    </tr>\n",
       "    <tr>\n",
       "      <th>581285</th>\n",
       "      <td>23</td>\n",
       "      <td>19</td>\n",
       "      <td>0.0</td>\n",
       "      <td>14</td>\n",
       "      <td>1</td>\n",
       "      <td>0</td>\n",
       "      <td>1</td>\n",
       "      <td>0</td>\n",
       "      <td>1</td>\n",
       "      <td>0</td>\n",
       "      <td>0</td>\n",
       "      <td>0</td>\n",
       "      <td>0</td>\n",
       "      <td>0</td>\n",
       "      <td>0</td>\n",
       "      <td>...</td>\n",
       "      <td>1</td>\n",
       "      <td>0</td>\n",
       "      <td>0</td>\n",
       "      <td>0</td>\n",
       "      <td>0</td>\n",
       "      <td>0</td>\n",
       "      <td>1</td>\n",
       "      <td>0.877654</td>\n",
       "      <td>-0.254583</td>\n",
       "      <td>-0.414855</td>\n",
       "      <td>-1.318859</td>\n",
       "      <td>0.296875</td>\n",
       "      <td>0.0</td>\n",
       "      <td>0.466667</td>\n",
       "      <td>0.059524</td>\n",
       "    </tr>\n",
       "  </tbody>\n",
       "</table>\n",
       "<p>5 rows × 122 columns</p>\n",
       "</div>"
      ],
      "text/plain": [
       "        Edad  DifEnDias  Prec_mm  Tmed  Sexo_F  SobreTurno  Ausente  \\\n",
       "823417    50          0      0.0    17       0           0        0   \n",
       "171493    43          0      0.0     2       1           1        0   \n",
       "650558    18         12      0.0     5       1           0        1   \n",
       "831297    40          3      0.0    27       0           0        0   \n",
       "581285    23         19      0.0    14       1           0        1   \n",
       "\n",
       "        CentroDeAtencion_1  CentroDeAtencion_2  CentroDeAtencion_3  \\\n",
       "823417                   1                   0                   0   \n",
       "171493                   1                   0                   0   \n",
       "650558                   1                   0                   0   \n",
       "831297                   0                   0                   0   \n",
       "581285                   0                   1                   0   \n",
       "\n",
       "        CentroDeAtencion_4  PrestadorAgrupado_DASPU  \\\n",
       "823417                   0                        0   \n",
       "171493                   0                        0   \n",
       "650558                   0                        0   \n",
       "831297                   1                        0   \n",
       "581285                   0                        0   \n",
       "\n",
       "        PrestadorAgrupado_GALENO ARGENTINA SA    PrestadorAgrupado_IOSFA  \\\n",
       "823417                                        0                        0   \n",
       "171493                                        0                        0   \n",
       "650558                                        0                        0   \n",
       "831297                                        0                        0   \n",
       "581285                                        0                        0   \n",
       "\n",
       "        PrestadorAgrupado_MEDIFE ASOCIACIÓN CIVIL  ...  Lluvia_Nula  \\\n",
       "823417                                          1  ...            1   \n",
       "171493                                          0  ...            1   \n",
       "650558                                          1  ...            1   \n",
       "831297                                          0  ...            1   \n",
       "581285                                          0  ...            1   \n",
       "\n",
       "        Lluvia_Torrencial  Temperatura_Caluroso  Temperatura_Frío  \\\n",
       "823417                  0                     0                 0   \n",
       "171493                  0                     0                 0   \n",
       "650558                  0                     0                 0   \n",
       "831297                  0                     0                 0   \n",
       "581285                  0                     0                 0   \n",
       "\n",
       "        Temperatura_Muy caluroso  Temperatura_Muy frío  Temperatura_Templado  \\\n",
       "823417                         0                     0                     1   \n",
       "171493                         0                     1                     0   \n",
       "650558                         0                     1                     0   \n",
       "831297                         1                     0                     0   \n",
       "581285                         0                     0                     1   \n",
       "\n",
       "        DifEnDias_SS  Prec_mm_SS   Tmed_SS   Edad_SS  DifEnDias_MM  \\\n",
       "823417     -0.956373   -0.254583  0.092639  0.381736      0.000000   \n",
       "171493     -0.956373   -0.254583 -2.444831 -0.059159      0.000000   \n",
       "650558      0.201959   -0.254583 -1.937337 -1.633784      0.187500   \n",
       "831297     -0.666790   -0.254583  1.784285 -0.248114      0.046875   \n",
       "581285      0.877654   -0.254583 -0.414855 -1.318859      0.296875   \n",
       "\n",
       "        Prec_mm_MM   Tmed_MM   Edad_MM  \n",
       "823417         0.0  0.566667  0.380952  \n",
       "171493         0.0  0.066667  0.297619  \n",
       "650558         0.0  0.166667  0.000000  \n",
       "831297         0.0  0.900000  0.261905  \n",
       "581285         0.0  0.466667  0.059524  \n",
       "\n",
       "[5 rows x 122 columns]"
      ]
     },
     "execution_count": 9,
     "metadata": {},
     "output_type": "execute_result"
    }
   ],
   "source": [
    "df.sample(5)"
   ]
  },
  {
   "cell_type": "code",
   "execution_count": 10,
   "metadata": {},
   "outputs": [],
   "source": [
    "X = df[[col for col in df if col != 'Ausente']]\n",
    "X = X.iloc[:, 4:-4]\n",
    "Y = df['Ausente']"
   ]
  },
  {
   "cell_type": "markdown",
   "metadata": {},
   "source": [
    "#### División entre conjunto de entrenamiento y de evaluación"
   ]
  },
  {
   "cell_type": "code",
   "execution_count": 11,
   "metadata": {},
   "outputs": [],
   "source": [
    "random_state = 0"
   ]
  },
  {
   "cell_type": "code",
   "execution_count": 12,
   "metadata": {},
   "outputs": [],
   "source": [
    "X_train, X_test, y_train, y_test = train_test_split(X, Y, test_size=0.20, random_state=random_state)"
   ]
  },
  {
   "cell_type": "code",
   "execution_count": 13,
   "metadata": {},
   "outputs": [
    {
     "data": {
      "text/plain": [
       "(162255, 30204)"
      ]
     },
     "execution_count": 13,
     "metadata": {},
     "output_type": "execute_result"
    }
   ],
   "source": [
    "np.sum((y_test == 0)), np.sum((y_test == 1))"
   ]
  },
  {
   "cell_type": "markdown",
   "metadata": {},
   "source": [
    "## Entrenamiento sin hiperparámetros"
   ]
  },
  {
   "cell_type": "markdown",
   "metadata": {},
   "source": [
    "### Decision Tree Classifier (Baseline)"
   ]
  },
  {
   "cell_type": "code",
   "execution_count": 23,
   "metadata": {},
   "outputs": [],
   "source": [
    "dtc = DecisionTreeClassifier(random_state=random_state)\n",
    "dtc.fit(X_train, y_train);"
   ]
  },
  {
   "cell_type": "code",
   "execution_count": 24,
   "metadata": {},
   "outputs": [],
   "source": [
    "y_pred_dtc_train = dtc.predict(X_train)\n",
    "y_pred_dtc_test = dtc.predict(X_test)"
   ]
  },
  {
   "cell_type": "code",
   "execution_count": 25,
   "metadata": {},
   "outputs": [
    {
     "data": {
      "text/html": [
       "<div>\n",
       "<style scoped>\n",
       "    .dataframe tbody tr th:only-of-type {\n",
       "        vertical-align: middle;\n",
       "    }\n",
       "\n",
       "    .dataframe tbody tr th {\n",
       "        vertical-align: top;\n",
       "    }\n",
       "\n",
       "    .dataframe thead th {\n",
       "        text-align: right;\n",
       "    }\n",
       "</style>\n",
       "<table border=\"1\" class=\"dataframe\">\n",
       "  <thead>\n",
       "    <tr style=\"text-align: right;\">\n",
       "      <th></th>\n",
       "      <th>Actual - Atendido</th>\n",
       "      <th>Actual - Ausente</th>\n",
       "      <th>Total</th>\n",
       "    </tr>\n",
       "  </thead>\n",
       "  <tbody>\n",
       "    <tr>\n",
       "      <th>Predicted - Atendido</th>\n",
       "      <td>137,308</td>\n",
       "      <td>21,822</td>\n",
       "      <td>159,130</td>\n",
       "    </tr>\n",
       "    <tr>\n",
       "      <th>Predicted - Ausente</th>\n",
       "      <td>24,947</td>\n",
       "      <td>8,382</td>\n",
       "      <td>33,329</td>\n",
       "    </tr>\n",
       "    <tr>\n",
       "      <th>Total</th>\n",
       "      <td>162,255</td>\n",
       "      <td>30,204</td>\n",
       "      <td>192,459</td>\n",
       "    </tr>\n",
       "  </tbody>\n",
       "</table>\n",
       "</div>"
      ],
      "text/plain": [
       "                     Actual - Atendido Actual - Ausente    Total\n",
       "Predicted - Atendido           137,308           21,822  159,130\n",
       "Predicted - Ausente             24,947            8,382   33,329\n",
       "Total                          162,255           30,204  192,459"
      ]
     },
     "execution_count": 25,
     "metadata": {},
     "output_type": "execute_result"
    }
   ],
   "source": [
    "get_confusion_matrix(y_test, y_pred_dtc_test)"
   ]
  },
  {
   "cell_type": "code",
   "execution_count": 26,
   "metadata": {},
   "outputs": [
    {
     "name": "stdout",
     "output_type": "stream",
     "text": [
      "Conjunto de entrenamiento:\n"
     ]
    },
    {
     "data": {
      "text/html": [
       "<div>\n",
       "<style scoped>\n",
       "    .dataframe tbody tr th:only-of-type {\n",
       "        vertical-align: middle;\n",
       "    }\n",
       "\n",
       "    .dataframe tbody tr th {\n",
       "        vertical-align: top;\n",
       "    }\n",
       "\n",
       "    .dataframe thead th {\n",
       "        text-align: right;\n",
       "    }\n",
       "</style>\n",
       "<table border=\"1\" class=\"dataframe\">\n",
       "  <thead>\n",
       "    <tr style=\"text-align: right;\">\n",
       "      <th></th>\n",
       "      <th>Accuracy</th>\n",
       "      <th>Balanced Accuracy</th>\n",
       "      <th>Precision</th>\n",
       "      <th>Recall</th>\n",
       "      <th>F1-Score</th>\n",
       "    </tr>\n",
       "  </thead>\n",
       "  <tbody>\n",
       "    <tr>\n",
       "      <th>0</th>\n",
       "      <td>99.92%</td>\n",
       "      <td>99.74%</td>\n",
       "      <td>99.99%</td>\n",
       "      <td>99.49%</td>\n",
       "      <td>99.74%</td>\n",
       "    </tr>\n",
       "  </tbody>\n",
       "</table>\n",
       "</div>"
      ],
      "text/plain": [
       "  Accuracy Balanced Accuracy Precision  Recall F1-Score\n",
       "0   99.92%            99.74%    99.99%  99.49%   99.74%"
      ]
     },
     "metadata": {},
     "output_type": "display_data"
    },
    {
     "name": "stdout",
     "output_type": "stream",
     "text": [
      "\n",
      "Conjunto de evaluación:\n"
     ]
    },
    {
     "data": {
      "text/html": [
       "<div>\n",
       "<style scoped>\n",
       "    .dataframe tbody tr th:only-of-type {\n",
       "        vertical-align: middle;\n",
       "    }\n",
       "\n",
       "    .dataframe tbody tr th {\n",
       "        vertical-align: top;\n",
       "    }\n",
       "\n",
       "    .dataframe thead th {\n",
       "        text-align: right;\n",
       "    }\n",
       "</style>\n",
       "<table border=\"1\" class=\"dataframe\">\n",
       "  <thead>\n",
       "    <tr style=\"text-align: right;\">\n",
       "      <th></th>\n",
       "      <th>Accuracy</th>\n",
       "      <th>Balanced Accuracy</th>\n",
       "      <th>Precision</th>\n",
       "      <th>Recall</th>\n",
       "      <th>F1-Score</th>\n",
       "    </tr>\n",
       "  </thead>\n",
       "  <tbody>\n",
       "    <tr>\n",
       "      <th>0</th>\n",
       "      <td>75.70%</td>\n",
       "      <td>56.19%</td>\n",
       "      <td>25.15%</td>\n",
       "      <td>27.75%</td>\n",
       "      <td>26.39%</td>\n",
       "    </tr>\n",
       "  </tbody>\n",
       "</table>\n",
       "</div>"
      ],
      "text/plain": [
       "  Accuracy Balanced Accuracy Precision  Recall F1-Score\n",
       "0   75.70%            56.19%    25.15%  27.75%   26.39%"
      ]
     },
     "metadata": {},
     "output_type": "display_data"
    }
   ],
   "source": [
    "get_metrics_train_test(y_train, y_pred_dtc_train, y_test, y_pred_dtc_test)"
   ]
  },
  {
   "cell_type": "markdown",
   "metadata": {},
   "source": [
    "### Random Forest Classifier"
   ]
  },
  {
   "cell_type": "code",
   "execution_count": 27,
   "metadata": {},
   "outputs": [],
   "source": [
    "rfc = RandomForestClassifier(random_state=random_state, n_jobs=-1)\n",
    "rfc.fit(X_train, y_train);"
   ]
  },
  {
   "cell_type": "code",
   "execution_count": 28,
   "metadata": {},
   "outputs": [],
   "source": [
    "y_pred_rfc_train = rfc.predict(X_train)\n",
    "y_pred_rfc_test = rfc.predict(X_test)"
   ]
  },
  {
   "cell_type": "code",
   "execution_count": 29,
   "metadata": {},
   "outputs": [
    {
     "data": {
      "text/html": [
       "<div>\n",
       "<style scoped>\n",
       "    .dataframe tbody tr th:only-of-type {\n",
       "        vertical-align: middle;\n",
       "    }\n",
       "\n",
       "    .dataframe tbody tr th {\n",
       "        vertical-align: top;\n",
       "    }\n",
       "\n",
       "    .dataframe thead th {\n",
       "        text-align: right;\n",
       "    }\n",
       "</style>\n",
       "<table border=\"1\" class=\"dataframe\">\n",
       "  <thead>\n",
       "    <tr style=\"text-align: right;\">\n",
       "      <th></th>\n",
       "      <th>Actual - Atendido</th>\n",
       "      <th>Actual - Ausente</th>\n",
       "      <th>Total</th>\n",
       "    </tr>\n",
       "  </thead>\n",
       "  <tbody>\n",
       "    <tr>\n",
       "      <th>Predicted - Atendido</th>\n",
       "      <td>160,726</td>\n",
       "      <td>28,714</td>\n",
       "      <td>189,440</td>\n",
       "    </tr>\n",
       "    <tr>\n",
       "      <th>Predicted - Ausente</th>\n",
       "      <td>1,529</td>\n",
       "      <td>1,490</td>\n",
       "      <td>3,019</td>\n",
       "    </tr>\n",
       "    <tr>\n",
       "      <th>Total</th>\n",
       "      <td>162,255</td>\n",
       "      <td>30,204</td>\n",
       "      <td>192,459</td>\n",
       "    </tr>\n",
       "  </tbody>\n",
       "</table>\n",
       "</div>"
      ],
      "text/plain": [
       "                     Actual - Atendido Actual - Ausente    Total\n",
       "Predicted - Atendido           160,726           28,714  189,440\n",
       "Predicted - Ausente              1,529            1,490    3,019\n",
       "Total                          162,255           30,204  192,459"
      ]
     },
     "execution_count": 29,
     "metadata": {},
     "output_type": "execute_result"
    }
   ],
   "source": [
    "get_confusion_matrix(y_test, y_pred_rfc_test)"
   ]
  },
  {
   "cell_type": "code",
   "execution_count": 30,
   "metadata": {},
   "outputs": [
    {
     "name": "stdout",
     "output_type": "stream",
     "text": [
      "Conjunto de entrenamiento:\n"
     ]
    },
    {
     "data": {
      "text/html": [
       "<div>\n",
       "<style scoped>\n",
       "    .dataframe tbody tr th:only-of-type {\n",
       "        vertical-align: middle;\n",
       "    }\n",
       "\n",
       "    .dataframe tbody tr th {\n",
       "        vertical-align: top;\n",
       "    }\n",
       "\n",
       "    .dataframe thead th {\n",
       "        text-align: right;\n",
       "    }\n",
       "</style>\n",
       "<table border=\"1\" class=\"dataframe\">\n",
       "  <thead>\n",
       "    <tr style=\"text-align: right;\">\n",
       "      <th></th>\n",
       "      <th>Accuracy</th>\n",
       "      <th>Balanced Accuracy</th>\n",
       "      <th>Precision</th>\n",
       "      <th>Recall</th>\n",
       "      <th>F1-Score</th>\n",
       "    </tr>\n",
       "  </thead>\n",
       "  <tbody>\n",
       "    <tr>\n",
       "      <th>0</th>\n",
       "      <td>99.92%</td>\n",
       "      <td>99.77%</td>\n",
       "      <td>99.92%</td>\n",
       "      <td>99.55%</td>\n",
       "      <td>99.73%</td>\n",
       "    </tr>\n",
       "  </tbody>\n",
       "</table>\n",
       "</div>"
      ],
      "text/plain": [
       "  Accuracy Balanced Accuracy Precision  Recall F1-Score\n",
       "0   99.92%            99.77%    99.92%  99.55%   99.73%"
      ]
     },
     "metadata": {},
     "output_type": "display_data"
    },
    {
     "name": "stdout",
     "output_type": "stream",
     "text": [
      "\n",
      "Conjunto de evaluación:\n"
     ]
    },
    {
     "data": {
      "text/html": [
       "<div>\n",
       "<style scoped>\n",
       "    .dataframe tbody tr th:only-of-type {\n",
       "        vertical-align: middle;\n",
       "    }\n",
       "\n",
       "    .dataframe tbody tr th {\n",
       "        vertical-align: top;\n",
       "    }\n",
       "\n",
       "    .dataframe thead th {\n",
       "        text-align: right;\n",
       "    }\n",
       "</style>\n",
       "<table border=\"1\" class=\"dataframe\">\n",
       "  <thead>\n",
       "    <tr style=\"text-align: right;\">\n",
       "      <th></th>\n",
       "      <th>Accuracy</th>\n",
       "      <th>Balanced Accuracy</th>\n",
       "      <th>Precision</th>\n",
       "      <th>Recall</th>\n",
       "      <th>F1-Score</th>\n",
       "    </tr>\n",
       "  </thead>\n",
       "  <tbody>\n",
       "    <tr>\n",
       "      <th>0</th>\n",
       "      <td>84.29%</td>\n",
       "      <td>52.00%</td>\n",
       "      <td>49.35%</td>\n",
       "      <td>4.93%</td>\n",
       "      <td>8.97%</td>\n",
       "    </tr>\n",
       "  </tbody>\n",
       "</table>\n",
       "</div>"
      ],
      "text/plain": [
       "  Accuracy Balanced Accuracy Precision Recall F1-Score\n",
       "0   84.29%            52.00%    49.35%  4.93%    8.97%"
      ]
     },
     "metadata": {},
     "output_type": "display_data"
    }
   ],
   "source": [
    "get_metrics_train_test(y_train, y_pred_rfc_train, y_test, y_pred_rfc_test)"
   ]
  },
  {
   "cell_type": "markdown",
   "metadata": {},
   "source": [
    "### XGBoost Classifier"
   ]
  },
  {
   "cell_type": "code",
   "execution_count": 31,
   "metadata": {},
   "outputs": [],
   "source": [
    "xgb = XGBClassifier(random_state=random_state, n_jobs=-1)\n",
    "xgb.fit(X_train, y_train);"
   ]
  },
  {
   "cell_type": "code",
   "execution_count": 32,
   "metadata": {},
   "outputs": [],
   "source": [
    "y_pred_xgb_train = xgb.predict(X_train)\n",
    "y_pred_xgb_test = xgb.predict(X_test)"
   ]
  },
  {
   "cell_type": "code",
   "execution_count": 33,
   "metadata": {},
   "outputs": [
    {
     "data": {
      "text/html": [
       "<div>\n",
       "<style scoped>\n",
       "    .dataframe tbody tr th:only-of-type {\n",
       "        vertical-align: middle;\n",
       "    }\n",
       "\n",
       "    .dataframe tbody tr th {\n",
       "        vertical-align: top;\n",
       "    }\n",
       "\n",
       "    .dataframe thead th {\n",
       "        text-align: right;\n",
       "    }\n",
       "</style>\n",
       "<table border=\"1\" class=\"dataframe\">\n",
       "  <thead>\n",
       "    <tr style=\"text-align: right;\">\n",
       "      <th></th>\n",
       "      <th>Actual - Atendido</th>\n",
       "      <th>Actual - Ausente</th>\n",
       "      <th>Total</th>\n",
       "    </tr>\n",
       "  </thead>\n",
       "  <tbody>\n",
       "    <tr>\n",
       "      <th>Predicted - Atendido</th>\n",
       "      <td>161,860</td>\n",
       "      <td>29,464</td>\n",
       "      <td>191,324</td>\n",
       "    </tr>\n",
       "    <tr>\n",
       "      <th>Predicted - Ausente</th>\n",
       "      <td>395</td>\n",
       "      <td>740</td>\n",
       "      <td>1,135</td>\n",
       "    </tr>\n",
       "    <tr>\n",
       "      <th>Total</th>\n",
       "      <td>162,255</td>\n",
       "      <td>30,204</td>\n",
       "      <td>192,459</td>\n",
       "    </tr>\n",
       "  </tbody>\n",
       "</table>\n",
       "</div>"
      ],
      "text/plain": [
       "                     Actual - Atendido Actual - Ausente    Total\n",
       "Predicted - Atendido           161,860           29,464  191,324\n",
       "Predicted - Ausente                395              740    1,135\n",
       "Total                          162,255           30,204  192,459"
      ]
     },
     "execution_count": 33,
     "metadata": {},
     "output_type": "execute_result"
    }
   ],
   "source": [
    "get_confusion_matrix(y_test, y_pred_xgb_test)"
   ]
  },
  {
   "cell_type": "code",
   "execution_count": 34,
   "metadata": {},
   "outputs": [
    {
     "name": "stdout",
     "output_type": "stream",
     "text": [
      "Conjunto de entrenamiento:\n"
     ]
    },
    {
     "data": {
      "text/html": [
       "<div>\n",
       "<style scoped>\n",
       "    .dataframe tbody tr th:only-of-type {\n",
       "        vertical-align: middle;\n",
       "    }\n",
       "\n",
       "    .dataframe tbody tr th {\n",
       "        vertical-align: top;\n",
       "    }\n",
       "\n",
       "    .dataframe thead th {\n",
       "        text-align: right;\n",
       "    }\n",
       "</style>\n",
       "<table border=\"1\" class=\"dataframe\">\n",
       "  <thead>\n",
       "    <tr style=\"text-align: right;\">\n",
       "      <th></th>\n",
       "      <th>Accuracy</th>\n",
       "      <th>Balanced Accuracy</th>\n",
       "      <th>Precision</th>\n",
       "      <th>Recall</th>\n",
       "      <th>F1-Score</th>\n",
       "    </tr>\n",
       "  </thead>\n",
       "  <tbody>\n",
       "    <tr>\n",
       "      <th>0</th>\n",
       "      <td>84.65%</td>\n",
       "      <td>51.32%</td>\n",
       "      <td>73.83%</td>\n",
       "      <td>2.83%</td>\n",
       "      <td>5.46%</td>\n",
       "    </tr>\n",
       "  </tbody>\n",
       "</table>\n",
       "</div>"
      ],
      "text/plain": [
       "  Accuracy Balanced Accuracy Precision Recall F1-Score\n",
       "0   84.65%            51.32%    73.83%  2.83%    5.46%"
      ]
     },
     "metadata": {},
     "output_type": "display_data"
    },
    {
     "name": "stdout",
     "output_type": "stream",
     "text": [
      "\n",
      "Conjunto de evaluación:\n"
     ]
    },
    {
     "data": {
      "text/html": [
       "<div>\n",
       "<style scoped>\n",
       "    .dataframe tbody tr th:only-of-type {\n",
       "        vertical-align: middle;\n",
       "    }\n",
       "\n",
       "    .dataframe tbody tr th {\n",
       "        vertical-align: top;\n",
       "    }\n",
       "\n",
       "    .dataframe thead th {\n",
       "        text-align: right;\n",
       "    }\n",
       "</style>\n",
       "<table border=\"1\" class=\"dataframe\">\n",
       "  <thead>\n",
       "    <tr style=\"text-align: right;\">\n",
       "      <th></th>\n",
       "      <th>Accuracy</th>\n",
       "      <th>Balanced Accuracy</th>\n",
       "      <th>Precision</th>\n",
       "      <th>Recall</th>\n",
       "      <th>F1-Score</th>\n",
       "    </tr>\n",
       "  </thead>\n",
       "  <tbody>\n",
       "    <tr>\n",
       "      <th>0</th>\n",
       "      <td>84.49%</td>\n",
       "      <td>51.10%</td>\n",
       "      <td>65.20%</td>\n",
       "      <td>2.45%</td>\n",
       "      <td>4.72%</td>\n",
       "    </tr>\n",
       "  </tbody>\n",
       "</table>\n",
       "</div>"
      ],
      "text/plain": [
       "  Accuracy Balanced Accuracy Precision Recall F1-Score\n",
       "0   84.49%            51.10%    65.20%  2.45%    4.72%"
      ]
     },
     "metadata": {},
     "output_type": "display_data"
    }
   ],
   "source": [
    "get_metrics_train_test(y_train, y_pred_xgb_train, y_test, y_pred_xgb_test)"
   ]
  },
  {
   "cell_type": "markdown",
   "metadata": {},
   "source": [
    "## Hyperparameter Tuning"
   ]
  },
  {
   "cell_type": "markdown",
   "metadata": {},
   "source": [
    "### Random Forest Classifier"
   ]
  },
  {
   "cell_type": "code",
   "execution_count": 35,
   "metadata": {},
   "outputs": [],
   "source": [
    "rfc = RandomForestClassifier(random_state=random_state, n_jobs=-1)"
   ]
  },
  {
   "cell_type": "code",
   "execution_count": 36,
   "metadata": {},
   "outputs": [],
   "source": [
    "params_rfc = {\n",
    "    'criterion': ['gini', 'entropy'],\n",
    "    'n_estimators': [20, 50, 100, 300],\n",
    "    'max_depth': [15, 30, 50, None],\n",
    "}"
   ]
  },
  {
   "cell_type": "code",
   "execution_count": 37,
   "metadata": {},
   "outputs": [],
   "source": [
    "rfc_rcv = RandomizedSearchCV(rfc, params_rfc, scoring='recall', cv=5)\n",
    "rfc_rcv.fit(X_train, y_train);"
   ]
  },
  {
   "cell_type": "code",
   "execution_count": 38,
   "metadata": {},
   "outputs": [
    {
     "name": "stdout",
     "output_type": "stream",
     "text": [
      "Resultados de Randomized Search CV:\n",
      "\n"
     ]
    },
    {
     "data": {
      "text/html": [
       "<div>\n",
       "<style scoped>\n",
       "    .dataframe tbody tr th:only-of-type {\n",
       "        vertical-align: middle;\n",
       "    }\n",
       "\n",
       "    .dataframe tbody tr th {\n",
       "        vertical-align: top;\n",
       "    }\n",
       "\n",
       "    .dataframe thead th {\n",
       "        text-align: right;\n",
       "    }\n",
       "</style>\n",
       "<table border=\"1\" class=\"dataframe\">\n",
       "  <thead>\n",
       "    <tr style=\"text-align: right;\">\n",
       "      <th></th>\n",
       "      <th>mean_fit_time</th>\n",
       "      <th>std_fit_time</th>\n",
       "      <th>mean_score_time</th>\n",
       "      <th>std_score_time</th>\n",
       "      <th>param_n_estimators</th>\n",
       "      <th>param_max_depth</th>\n",
       "      <th>param_criterion</th>\n",
       "      <th>params</th>\n",
       "      <th>split0_test_score</th>\n",
       "      <th>split1_test_score</th>\n",
       "      <th>split2_test_score</th>\n",
       "      <th>split3_test_score</th>\n",
       "      <th>split4_test_score</th>\n",
       "      <th>mean_test_score</th>\n",
       "      <th>std_test_score</th>\n",
       "      <th>rank_test_score</th>\n",
       "    </tr>\n",
       "  </thead>\n",
       "  <tbody>\n",
       "    <tr>\n",
       "      <th>0</th>\n",
       "      <td>19.380995</td>\n",
       "      <td>0.916686</td>\n",
       "      <td>0.694237</td>\n",
       "      <td>0.093043</td>\n",
       "      <td>20</td>\n",
       "      <td>50</td>\n",
       "      <td>entropy</td>\n",
       "      <td>{'n_estimators': 20, 'max_depth': 50, 'criteri...</td>\n",
       "      <td>0.054524</td>\n",
       "      <td>0.057307</td>\n",
       "      <td>0.056183</td>\n",
       "      <td>0.057097</td>\n",
       "      <td>0.055934</td>\n",
       "      <td>0.056209</td>\n",
       "      <td>0.000991</td>\n",
       "      <td>1</td>\n",
       "    </tr>\n",
       "    <tr>\n",
       "      <th>1</th>\n",
       "      <td>45.389462</td>\n",
       "      <td>1.055650</td>\n",
       "      <td>1.278263</td>\n",
       "      <td>0.005665</td>\n",
       "      <td>50</td>\n",
       "      <td>None</td>\n",
       "      <td>gini</td>\n",
       "      <td>{'n_estimators': 50, 'max_depth': None, 'crite...</td>\n",
       "      <td>0.047174</td>\n",
       "      <td>0.049541</td>\n",
       "      <td>0.049082</td>\n",
       "      <td>0.048418</td>\n",
       "      <td>0.048875</td>\n",
       "      <td>0.048618</td>\n",
       "      <td>0.000807</td>\n",
       "      <td>2</td>\n",
       "    </tr>\n",
       "    <tr>\n",
       "      <th>2</th>\n",
       "      <td>133.447681</td>\n",
       "      <td>2.637338</td>\n",
       "      <td>3.768576</td>\n",
       "      <td>0.300735</td>\n",
       "      <td>100</td>\n",
       "      <td>50</td>\n",
       "      <td>gini</td>\n",
       "      <td>{'n_estimators': 100, 'max_depth': 50, 'criter...</td>\n",
       "      <td>0.045887</td>\n",
       "      <td>0.045679</td>\n",
       "      <td>0.046134</td>\n",
       "      <td>0.045511</td>\n",
       "      <td>0.044099</td>\n",
       "      <td>0.045462</td>\n",
       "      <td>0.000713</td>\n",
       "      <td>3</td>\n",
       "    </tr>\n",
       "    <tr>\n",
       "      <th>3</th>\n",
       "      <td>88.052461</td>\n",
       "      <td>1.799454</td>\n",
       "      <td>2.389896</td>\n",
       "      <td>0.163895</td>\n",
       "      <td>100</td>\n",
       "      <td>None</td>\n",
       "      <td>entropy</td>\n",
       "      <td>{'n_estimators': 100, 'max_depth': None, 'crit...</td>\n",
       "      <td>0.045679</td>\n",
       "      <td>0.046011</td>\n",
       "      <td>0.045387</td>\n",
       "      <td>0.045179</td>\n",
       "      <td>0.044141</td>\n",
       "      <td>0.045279</td>\n",
       "      <td>0.000635</td>\n",
       "      <td>4</td>\n",
       "    </tr>\n",
       "    <tr>\n",
       "      <th>4</th>\n",
       "      <td>260.965059</td>\n",
       "      <td>1.394692</td>\n",
       "      <td>11.651636</td>\n",
       "      <td>0.820209</td>\n",
       "      <td>300</td>\n",
       "      <td>50</td>\n",
       "      <td>gini</td>\n",
       "      <td>{'n_estimators': 300, 'max_depth': 50, 'criter...</td>\n",
       "      <td>0.043561</td>\n",
       "      <td>0.044350</td>\n",
       "      <td>0.043186</td>\n",
       "      <td>0.044639</td>\n",
       "      <td>0.042189</td>\n",
       "      <td>0.043585</td>\n",
       "      <td>0.000872</td>\n",
       "      <td>5</td>\n",
       "    </tr>\n",
       "  </tbody>\n",
       "</table>\n",
       "</div>"
      ],
      "text/plain": [
       "   mean_fit_time  std_fit_time  mean_score_time  std_score_time  \\\n",
       "0      19.380995      0.916686         0.694237        0.093043   \n",
       "1      45.389462      1.055650         1.278263        0.005665   \n",
       "2     133.447681      2.637338         3.768576        0.300735   \n",
       "3      88.052461      1.799454         2.389896        0.163895   \n",
       "4     260.965059      1.394692        11.651636        0.820209   \n",
       "\n",
       "  param_n_estimators param_max_depth param_criterion  \\\n",
       "0                 20              50         entropy   \n",
       "1                 50            None            gini   \n",
       "2                100              50            gini   \n",
       "3                100            None         entropy   \n",
       "4                300              50            gini   \n",
       "\n",
       "                                              params  split0_test_score  \\\n",
       "0  {'n_estimators': 20, 'max_depth': 50, 'criteri...           0.054524   \n",
       "1  {'n_estimators': 50, 'max_depth': None, 'crite...           0.047174   \n",
       "2  {'n_estimators': 100, 'max_depth': 50, 'criter...           0.045887   \n",
       "3  {'n_estimators': 100, 'max_depth': None, 'crit...           0.045679   \n",
       "4  {'n_estimators': 300, 'max_depth': 50, 'criter...           0.043561   \n",
       "\n",
       "   split1_test_score  split2_test_score  split3_test_score  split4_test_score  \\\n",
       "0           0.057307           0.056183           0.057097           0.055934   \n",
       "1           0.049541           0.049082           0.048418           0.048875   \n",
       "2           0.045679           0.046134           0.045511           0.044099   \n",
       "3           0.046011           0.045387           0.045179           0.044141   \n",
       "4           0.044350           0.043186           0.044639           0.042189   \n",
       "\n",
       "   mean_test_score  std_test_score  rank_test_score  \n",
       "0         0.056209        0.000991                1  \n",
       "1         0.048618        0.000807                2  \n",
       "2         0.045462        0.000713                3  \n",
       "3         0.045279        0.000635                4  \n",
       "4         0.043585        0.000872                5  "
      ]
     },
     "execution_count": 38,
     "metadata": {},
     "output_type": "execute_result"
    }
   ],
   "source": [
    "rfc_rcv_results = pd.DataFrame(rfc_rcv.cv_results_)\n",
    "rfc_rcv_results = rfc_rcv_results.sort_values(by=['rank_test_score'], ascending=True).reset_index(drop=True)\n",
    "\n",
    "print('Resultados de Randomized Search CV:\\n')\n",
    "rfc_rcv_results.head(5)"
   ]
  },
  {
   "cell_type": "code",
   "execution_count": 39,
   "metadata": {},
   "outputs": [
    {
     "data": {
      "text/plain": [
       "{'n_estimators': 20, 'max_depth': 50, 'criterion': 'entropy'}"
      ]
     },
     "execution_count": 39,
     "metadata": {},
     "output_type": "execute_result"
    }
   ],
   "source": [
    "rfc_rcv_results.iloc[0]['params']"
   ]
  },
  {
   "cell_type": "code",
   "execution_count": 25,
   "metadata": {},
   "outputs": [],
   "source": [
    "rfc_cv_best_params = {'n_estimators': 20, 'max_depth': 50, 'criterion': 'entropy'}"
   ]
  },
  {
   "cell_type": "markdown",
   "metadata": {},
   "source": [
    "##### Modelo optimizado"
   ]
  },
  {
   "cell_type": "code",
   "execution_count": 26,
   "metadata": {},
   "outputs": [],
   "source": [
    "rfc_opt = RandomForestClassifier(**rfc_cv_best_params, random_state=random_state, n_jobs=-1)\n",
    "rfc_opt.fit(X_train, y_train);"
   ]
  },
  {
   "cell_type": "code",
   "execution_count": 27,
   "metadata": {},
   "outputs": [],
   "source": [
    "y_pred_rfc_opt_train = rfc_opt.predict(X_train)\n",
    "y_pred_rfc_opt_test = rfc_opt.predict(X_test)"
   ]
  },
  {
   "cell_type": "code",
   "execution_count": 28,
   "metadata": {},
   "outputs": [
    {
     "data": {
      "text/html": [
       "<div>\n",
       "<style scoped>\n",
       "    .dataframe tbody tr th:only-of-type {\n",
       "        vertical-align: middle;\n",
       "    }\n",
       "\n",
       "    .dataframe tbody tr th {\n",
       "        vertical-align: top;\n",
       "    }\n",
       "\n",
       "    .dataframe thead th {\n",
       "        text-align: right;\n",
       "    }\n",
       "</style>\n",
       "<table border=\"1\" class=\"dataframe\">\n",
       "  <thead>\n",
       "    <tr style=\"text-align: right;\">\n",
       "      <th></th>\n",
       "      <th>Actual - Atendido</th>\n",
       "      <th>Actual - Ausente</th>\n",
       "      <th>Total</th>\n",
       "    </tr>\n",
       "  </thead>\n",
       "  <tbody>\n",
       "    <tr>\n",
       "      <th>Predicted - Atendido</th>\n",
       "      <td>159,757</td>\n",
       "      <td>28,368</td>\n",
       "      <td>188,125</td>\n",
       "    </tr>\n",
       "    <tr>\n",
       "      <th>Predicted - Ausente</th>\n",
       "      <td>2,498</td>\n",
       "      <td>1,836</td>\n",
       "      <td>4,334</td>\n",
       "    </tr>\n",
       "    <tr>\n",
       "      <th>Total</th>\n",
       "      <td>162,255</td>\n",
       "      <td>30,204</td>\n",
       "      <td>192,459</td>\n",
       "    </tr>\n",
       "  </tbody>\n",
       "</table>\n",
       "</div>"
      ],
      "text/plain": [
       "                     Actual - Atendido Actual - Ausente    Total\n",
       "Predicted - Atendido           159,757           28,368  188,125\n",
       "Predicted - Ausente              2,498            1,836    4,334\n",
       "Total                          162,255           30,204  192,459"
      ]
     },
     "execution_count": 28,
     "metadata": {},
     "output_type": "execute_result"
    }
   ],
   "source": [
    "get_confusion_matrix(y_test, y_pred_rfc_opt_test)"
   ]
  },
  {
   "cell_type": "code",
   "execution_count": 29,
   "metadata": {},
   "outputs": [
    {
     "name": "stdout",
     "output_type": "stream",
     "text": [
      "Conjunto de entrenamiento:\n"
     ]
    },
    {
     "data": {
      "text/html": [
       "<div>\n",
       "<style scoped>\n",
       "    .dataframe tbody tr th:only-of-type {\n",
       "        vertical-align: middle;\n",
       "    }\n",
       "\n",
       "    .dataframe tbody tr th {\n",
       "        vertical-align: top;\n",
       "    }\n",
       "\n",
       "    .dataframe thead th {\n",
       "        text-align: right;\n",
       "    }\n",
       "</style>\n",
       "<table border=\"1\" class=\"dataframe\">\n",
       "  <thead>\n",
       "    <tr style=\"text-align: right;\">\n",
       "      <th></th>\n",
       "      <th>Accuracy</th>\n",
       "      <th>Balanced Accuracy</th>\n",
       "      <th>Precision</th>\n",
       "      <th>Recall</th>\n",
       "      <th>F1-Score</th>\n",
       "    </tr>\n",
       "  </thead>\n",
       "  <tbody>\n",
       "    <tr>\n",
       "      <th>0</th>\n",
       "      <td>99.28%</td>\n",
       "      <td>97.77%</td>\n",
       "      <td>99.85%</td>\n",
       "      <td>95.57%</td>\n",
       "      <td>97.66%</td>\n",
       "    </tr>\n",
       "  </tbody>\n",
       "</table>\n",
       "</div>"
      ],
      "text/plain": [
       "  Accuracy Balanced Accuracy Precision  Recall F1-Score\n",
       "0   99.28%            97.77%    99.85%  95.57%   97.66%"
      ]
     },
     "metadata": {},
     "output_type": "display_data"
    },
    {
     "name": "stdout",
     "output_type": "stream",
     "text": [
      "\n",
      "Conjunto de evaluación:\n"
     ]
    },
    {
     "data": {
      "text/html": [
       "<div>\n",
       "<style scoped>\n",
       "    .dataframe tbody tr th:only-of-type {\n",
       "        vertical-align: middle;\n",
       "    }\n",
       "\n",
       "    .dataframe tbody tr th {\n",
       "        vertical-align: top;\n",
       "    }\n",
       "\n",
       "    .dataframe thead th {\n",
       "        text-align: right;\n",
       "    }\n",
       "</style>\n",
       "<table border=\"1\" class=\"dataframe\">\n",
       "  <thead>\n",
       "    <tr style=\"text-align: right;\">\n",
       "      <th></th>\n",
       "      <th>Accuracy</th>\n",
       "      <th>Balanced Accuracy</th>\n",
       "      <th>Precision</th>\n",
       "      <th>Recall</th>\n",
       "      <th>F1-Score</th>\n",
       "    </tr>\n",
       "  </thead>\n",
       "  <tbody>\n",
       "    <tr>\n",
       "      <th>0</th>\n",
       "      <td>83.96%</td>\n",
       "      <td>52.27%</td>\n",
       "      <td>42.36%</td>\n",
       "      <td>6.08%</td>\n",
       "      <td>10.63%</td>\n",
       "    </tr>\n",
       "  </tbody>\n",
       "</table>\n",
       "</div>"
      ],
      "text/plain": [
       "  Accuracy Balanced Accuracy Precision Recall F1-Score\n",
       "0   83.96%            52.27%    42.36%  6.08%   10.63%"
      ]
     },
     "metadata": {},
     "output_type": "display_data"
    }
   ],
   "source": [
    "get_metrics_train_test(y_train, y_pred_rfc_opt_train, y_test, y_pred_rfc_opt_test)"
   ]
  },
  {
   "cell_type": "markdown",
   "metadata": {},
   "source": [
    "### XGBoost Classifier"
   ]
  },
  {
   "cell_type": "code",
   "execution_count": 14,
   "metadata": {},
   "outputs": [],
   "source": [
    "xgb = XGBClassifier(random_state=random_state, n_jobs=-1)"
   ]
  },
  {
   "cell_type": "code",
   "execution_count": 15,
   "metadata": {},
   "outputs": [],
   "source": [
    "params_xgb = {\n",
    "    'n_estimators': [250, 500, 750, 1000],\n",
    "    'learning_rate': [0.05, 0.10, 0.15, 0.25, 0.30],\n",
    "     'max_depth': [10, 15, 20, 25],\n",
    "}"
   ]
  },
  {
   "cell_type": "code",
   "execution_count": 16,
   "metadata": {},
   "outputs": [],
   "source": [
    "xgb_rcv = RandomizedSearchCV(xgb, params_xgb, scoring='recall', cv=3)\n",
    "xgb_rcv.fit(X_train, y_train);"
   ]
  },
  {
   "cell_type": "code",
   "execution_count": 17,
   "metadata": {},
   "outputs": [
    {
     "name": "stdout",
     "output_type": "stream",
     "text": [
      "Resultados de Randomized Search CV:\n",
      "\n"
     ]
    },
    {
     "data": {
      "text/html": [
       "<div>\n",
       "<style scoped>\n",
       "    .dataframe tbody tr th:only-of-type {\n",
       "        vertical-align: middle;\n",
       "    }\n",
       "\n",
       "    .dataframe tbody tr th {\n",
       "        vertical-align: top;\n",
       "    }\n",
       "\n",
       "    .dataframe thead th {\n",
       "        text-align: right;\n",
       "    }\n",
       "</style>\n",
       "<table border=\"1\" class=\"dataframe\">\n",
       "  <thead>\n",
       "    <tr style=\"text-align: right;\">\n",
       "      <th></th>\n",
       "      <th>mean_fit_time</th>\n",
       "      <th>std_fit_time</th>\n",
       "      <th>mean_score_time</th>\n",
       "      <th>std_score_time</th>\n",
       "      <th>param_n_estimators</th>\n",
       "      <th>param_max_depth</th>\n",
       "      <th>param_learning_rate</th>\n",
       "      <th>params</th>\n",
       "      <th>split0_test_score</th>\n",
       "      <th>split1_test_score</th>\n",
       "      <th>split2_test_score</th>\n",
       "      <th>mean_test_score</th>\n",
       "      <th>std_test_score</th>\n",
       "      <th>rank_test_score</th>\n",
       "    </tr>\n",
       "  </thead>\n",
       "  <tbody>\n",
       "    <tr>\n",
       "      <th>0</th>\n",
       "      <td>1427.615109</td>\n",
       "      <td>38.265488</td>\n",
       "      <td>23.370064</td>\n",
       "      <td>0.682662</td>\n",
       "      <td>1000</td>\n",
       "      <td>15</td>\n",
       "      <td>0.15</td>\n",
       "      <td>{'n_estimators': 1000, 'max_depth': 15, 'learn...</td>\n",
       "      <td>0.121935</td>\n",
       "      <td>0.125997</td>\n",
       "      <td>0.126121</td>\n",
       "      <td>0.124684</td>\n",
       "      <td>0.001944</td>\n",
       "      <td>1</td>\n",
       "    </tr>\n",
       "    <tr>\n",
       "      <th>1</th>\n",
       "      <td>1493.599037</td>\n",
       "      <td>5.640855</td>\n",
       "      <td>24.800716</td>\n",
       "      <td>0.131273</td>\n",
       "      <td>750</td>\n",
       "      <td>20</td>\n",
       "      <td>0.15</td>\n",
       "      <td>{'n_estimators': 750, 'max_depth': 20, 'learni...</td>\n",
       "      <td>0.122857</td>\n",
       "      <td>0.123181</td>\n",
       "      <td>0.123082</td>\n",
       "      <td>0.123040</td>\n",
       "      <td>0.000135</td>\n",
       "      <td>2</td>\n",
       "    </tr>\n",
       "    <tr>\n",
       "      <th>2</th>\n",
       "      <td>647.128278</td>\n",
       "      <td>7.439739</td>\n",
       "      <td>6.008266</td>\n",
       "      <td>0.094255</td>\n",
       "      <td>750</td>\n",
       "      <td>10</td>\n",
       "      <td>0.25</td>\n",
       "      <td>{'n_estimators': 750, 'max_depth': 10, 'learni...</td>\n",
       "      <td>0.113414</td>\n",
       "      <td>0.114660</td>\n",
       "      <td>0.114560</td>\n",
       "      <td>0.114212</td>\n",
       "      <td>0.000565</td>\n",
       "      <td>3</td>\n",
       "    </tr>\n",
       "    <tr>\n",
       "      <th>3</th>\n",
       "      <td>2716.398704</td>\n",
       "      <td>4.979133</td>\n",
       "      <td>50.854321</td>\n",
       "      <td>0.958630</td>\n",
       "      <td>1000</td>\n",
       "      <td>25</td>\n",
       "      <td>0.05</td>\n",
       "      <td>{'n_estimators': 1000, 'max_depth': 25, 'learn...</td>\n",
       "      <td>0.104569</td>\n",
       "      <td>0.106538</td>\n",
       "      <td>0.105566</td>\n",
       "      <td>0.105558</td>\n",
       "      <td>0.000804</td>\n",
       "      <td>4</td>\n",
       "    </tr>\n",
       "    <tr>\n",
       "      <th>4</th>\n",
       "      <td>2098.022776</td>\n",
       "      <td>5.393650</td>\n",
       "      <td>36.618483</td>\n",
       "      <td>0.244219</td>\n",
       "      <td>750</td>\n",
       "      <td>25</td>\n",
       "      <td>0.05</td>\n",
       "      <td>{'n_estimators': 750, 'max_depth': 25, 'learni...</td>\n",
       "      <td>0.099910</td>\n",
       "      <td>0.102103</td>\n",
       "      <td>0.100957</td>\n",
       "      <td>0.100990</td>\n",
       "      <td>0.000895</td>\n",
       "      <td>5</td>\n",
       "    </tr>\n",
       "  </tbody>\n",
       "</table>\n",
       "</div>"
      ],
      "text/plain": [
       "   mean_fit_time  std_fit_time  mean_score_time  std_score_time  \\\n",
       "0    1427.615109     38.265488        23.370064        0.682662   \n",
       "1    1493.599037      5.640855        24.800716        0.131273   \n",
       "2     647.128278      7.439739         6.008266        0.094255   \n",
       "3    2716.398704      4.979133        50.854321        0.958630   \n",
       "4    2098.022776      5.393650        36.618483        0.244219   \n",
       "\n",
       "  param_n_estimators param_max_depth param_learning_rate  \\\n",
       "0               1000              15                0.15   \n",
       "1                750              20                0.15   \n",
       "2                750              10                0.25   \n",
       "3               1000              25                0.05   \n",
       "4                750              25                0.05   \n",
       "\n",
       "                                              params  split0_test_score  \\\n",
       "0  {'n_estimators': 1000, 'max_depth': 15, 'learn...           0.121935   \n",
       "1  {'n_estimators': 750, 'max_depth': 20, 'learni...           0.122857   \n",
       "2  {'n_estimators': 750, 'max_depth': 10, 'learni...           0.113414   \n",
       "3  {'n_estimators': 1000, 'max_depth': 25, 'learn...           0.104569   \n",
       "4  {'n_estimators': 750, 'max_depth': 25, 'learni...           0.099910   \n",
       "\n",
       "   split1_test_score  split2_test_score  mean_test_score  std_test_score  \\\n",
       "0           0.125997           0.126121         0.124684        0.001944   \n",
       "1           0.123181           0.123082         0.123040        0.000135   \n",
       "2           0.114660           0.114560         0.114212        0.000565   \n",
       "3           0.106538           0.105566         0.105558        0.000804   \n",
       "4           0.102103           0.100957         0.100990        0.000895   \n",
       "\n",
       "   rank_test_score  \n",
       "0                1  \n",
       "1                2  \n",
       "2                3  \n",
       "3                4  \n",
       "4                5  "
      ]
     },
     "execution_count": 17,
     "metadata": {},
     "output_type": "execute_result"
    }
   ],
   "source": [
    "xgb_rcv_results = pd.DataFrame(xgb_rcv.cv_results_)\n",
    "xgb_rcv_results = xgb_rcv_results.sort_values(by=['rank_test_score'], ascending=True).reset_index(drop=True)\n",
    "\n",
    "print('Resultados de Randomized Search CV:\\n')\n",
    "xgb_rcv_results.head(5)"
   ]
  },
  {
   "cell_type": "code",
   "execution_count": 18,
   "metadata": {},
   "outputs": [
    {
     "data": {
      "text/plain": [
       "{'n_estimators': 1000, 'max_depth': 15, 'learning_rate': 0.15}"
      ]
     },
     "execution_count": 18,
     "metadata": {},
     "output_type": "execute_result"
    }
   ],
   "source": [
    "xgb_rcv_results.iloc[0]['params']"
   ]
  },
  {
   "cell_type": "code",
   "execution_count": 19,
   "metadata": {},
   "outputs": [],
   "source": [
    "xgb_cv_best_params = {'n_estimators': 1000, 'max_depth': 15, 'learning_rate': 0.15}"
   ]
  },
  {
   "cell_type": "markdown",
   "metadata": {},
   "source": [
    "##### Modelo optimizado"
   ]
  },
  {
   "cell_type": "code",
   "execution_count": 20,
   "metadata": {},
   "outputs": [],
   "source": [
    "xgb_opt = XGBClassifier(**xgb_cv_best_params, random_state=random_state, n_jobs=-1)\n",
    "xgb_opt.fit(X_train, y_train);"
   ]
  },
  {
   "cell_type": "code",
   "execution_count": 21,
   "metadata": {},
   "outputs": [],
   "source": [
    "y_pred_xgb_opt_train = xgb_opt.predict(X_train)\n",
    "y_pred_xgb_opt_test = xgb_opt.predict(X_test)"
   ]
  },
  {
   "cell_type": "code",
   "execution_count": 22,
   "metadata": {},
   "outputs": [
    {
     "data": {
      "text/html": [
       "<div>\n",
       "<style scoped>\n",
       "    .dataframe tbody tr th:only-of-type {\n",
       "        vertical-align: middle;\n",
       "    }\n",
       "\n",
       "    .dataframe tbody tr th {\n",
       "        vertical-align: top;\n",
       "    }\n",
       "\n",
       "    .dataframe thead th {\n",
       "        text-align: right;\n",
       "    }\n",
       "</style>\n",
       "<table border=\"1\" class=\"dataframe\">\n",
       "  <thead>\n",
       "    <tr style=\"text-align: right;\">\n",
       "      <th></th>\n",
       "      <th>Actual - Atendido</th>\n",
       "      <th>Actual - Ausente</th>\n",
       "      <th>Total</th>\n",
       "    </tr>\n",
       "  </thead>\n",
       "  <tbody>\n",
       "    <tr>\n",
       "      <th>Predicted - Atendido</th>\n",
       "      <td>156,716</td>\n",
       "      <td>26,296</td>\n",
       "      <td>183,012</td>\n",
       "    </tr>\n",
       "    <tr>\n",
       "      <th>Predicted - Ausente</th>\n",
       "      <td>5,539</td>\n",
       "      <td>3,908</td>\n",
       "      <td>9,447</td>\n",
       "    </tr>\n",
       "    <tr>\n",
       "      <th>Total</th>\n",
       "      <td>162,255</td>\n",
       "      <td>30,204</td>\n",
       "      <td>192,459</td>\n",
       "    </tr>\n",
       "  </tbody>\n",
       "</table>\n",
       "</div>"
      ],
      "text/plain": [
       "                     Actual - Atendido Actual - Ausente    Total\n",
       "Predicted - Atendido           156,716           26,296  183,012\n",
       "Predicted - Ausente              5,539            3,908    9,447\n",
       "Total                          162,255           30,204  192,459"
      ]
     },
     "execution_count": 22,
     "metadata": {},
     "output_type": "execute_result"
    }
   ],
   "source": [
    "get_confusion_matrix(y_test, y_pred_xgb_opt_test)"
   ]
  },
  {
   "cell_type": "code",
   "execution_count": 23,
   "metadata": {},
   "outputs": [
    {
     "name": "stdout",
     "output_type": "stream",
     "text": [
      "Conjunto de entrenamiento:\n"
     ]
    },
    {
     "data": {
      "text/html": [
       "<div>\n",
       "<style scoped>\n",
       "    .dataframe tbody tr th:only-of-type {\n",
       "        vertical-align: middle;\n",
       "    }\n",
       "\n",
       "    .dataframe tbody tr th {\n",
       "        vertical-align: top;\n",
       "    }\n",
       "\n",
       "    .dataframe thead th {\n",
       "        text-align: right;\n",
       "    }\n",
       "</style>\n",
       "<table border=\"1\" class=\"dataframe\">\n",
       "  <thead>\n",
       "    <tr style=\"text-align: right;\">\n",
       "      <th></th>\n",
       "      <th>Accuracy</th>\n",
       "      <th>Balanced Accuracy</th>\n",
       "      <th>Precision</th>\n",
       "      <th>Recall</th>\n",
       "      <th>F1-Score</th>\n",
       "    </tr>\n",
       "  </thead>\n",
       "  <tbody>\n",
       "    <tr>\n",
       "      <th>0</th>\n",
       "      <td>99.77%</td>\n",
       "      <td>99.29%</td>\n",
       "      <td>99.92%</td>\n",
       "      <td>98.60%</td>\n",
       "      <td>99.26%</td>\n",
       "    </tr>\n",
       "  </tbody>\n",
       "</table>\n",
       "</div>"
      ],
      "text/plain": [
       "  Accuracy Balanced Accuracy Precision  Recall F1-Score\n",
       "0   99.77%            99.29%    99.92%  98.60%   99.26%"
      ]
     },
     "metadata": {},
     "output_type": "display_data"
    },
    {
     "name": "stdout",
     "output_type": "stream",
     "text": [
      "\n",
      "Conjunto de evaluación:\n"
     ]
    },
    {
     "data": {
      "text/html": [
       "<div>\n",
       "<style scoped>\n",
       "    .dataframe tbody tr th:only-of-type {\n",
       "        vertical-align: middle;\n",
       "    }\n",
       "\n",
       "    .dataframe tbody tr th {\n",
       "        vertical-align: top;\n",
       "    }\n",
       "\n",
       "    .dataframe thead th {\n",
       "        text-align: right;\n",
       "    }\n",
       "</style>\n",
       "<table border=\"1\" class=\"dataframe\">\n",
       "  <thead>\n",
       "    <tr style=\"text-align: right;\">\n",
       "      <th></th>\n",
       "      <th>Accuracy</th>\n",
       "      <th>Balanced Accuracy</th>\n",
       "      <th>Precision</th>\n",
       "      <th>Recall</th>\n",
       "      <th>F1-Score</th>\n",
       "    </tr>\n",
       "  </thead>\n",
       "  <tbody>\n",
       "    <tr>\n",
       "      <th>0</th>\n",
       "      <td>83.46%</td>\n",
       "      <td>54.76%</td>\n",
       "      <td>41.37%</td>\n",
       "      <td>12.94%</td>\n",
       "      <td>19.71%</td>\n",
       "    </tr>\n",
       "  </tbody>\n",
       "</table>\n",
       "</div>"
      ],
      "text/plain": [
       "  Accuracy Balanced Accuracy Precision  Recall F1-Score\n",
       "0   83.46%            54.76%    41.37%  12.94%   19.71%"
      ]
     },
     "metadata": {},
     "output_type": "display_data"
    }
   ],
   "source": [
    "get_metrics_train_test(y_train, y_pred_xgb_opt_train, y_test, y_pred_xgb_opt_test)"
   ]
  },
  {
   "cell_type": "markdown",
   "metadata": {},
   "source": [
    "## Feature importance and engineering"
   ]
  },
  {
   "cell_type": "markdown",
   "metadata": {},
   "source": [
    "### Random Forest Classifier"
   ]
  },
  {
   "cell_type": "code",
   "execution_count": 30,
   "metadata": {},
   "outputs": [],
   "source": [
    "rfc_permutation_imp = permutation_importance(rfc_opt, X, Y, scoring='recall', random_state=random_state)"
   ]
  },
  {
   "cell_type": "code",
   "execution_count": 31,
   "metadata": {},
   "outputs": [],
   "source": [
    "import pickle\n",
    "pickle.dump(rfc_permutation_imp, open('rfc_permutation_imp.pkl', 'wb'))"
   ]
  },
  {
   "cell_type": "code",
   "execution_count": 32,
   "metadata": {},
   "outputs": [],
   "source": [
    "# get importance\n",
    "#rfc_importance = rfc_permutation_imp.importances_mean"
   ]
  },
  {
   "cell_type": "code",
   "execution_count": 33,
   "metadata": {},
   "outputs": [
    {
     "data": {
      "image/png": "[encoded data removed]",
      "text/plain": [
       "<Figure size 432x288 with 1 Axes>"
      ]
     },
     "metadata": {},
     "output_type": "display_data"
    }
   ],
   "source": [
    "rfc_importance = pickle.load(open('rfc_permutation_imp.pkl', 'rb'))\n",
    "rfc_importance = rfc_importance.importances_mean\n",
    "\n",
    "# plot feature importance\n",
    "plt.bar([x for x in range(len(rfc_importance))], rfc_importance)\n",
    "plt.show()"
   ]
  },
  {
   "cell_type": "code",
   "execution_count": 34,
   "metadata": {},
   "outputs": [
    {
     "data": {
      "text/html": [
       "<div>\n",
       "<style scoped>\n",
       "    .dataframe tbody tr th:only-of-type {\n",
       "        vertical-align: middle;\n",
       "    }\n",
       "\n",
       "    .dataframe tbody tr th {\n",
       "        vertical-align: top;\n",
       "    }\n",
       "\n",
       "    .dataframe thead th {\n",
       "        text-align: right;\n",
       "    }\n",
       "</style>\n",
       "<table border=\"1\" class=\"dataframe\">\n",
       "  <thead>\n",
       "    <tr style=\"text-align: right;\">\n",
       "      <th></th>\n",
       "      <th>Feature</th>\n",
       "      <th>Permutation Mean</th>\n",
       "    </tr>\n",
       "  </thead>\n",
       "  <tbody>\n",
       "    <tr>\n",
       "      <th>112</th>\n",
       "      <td>Edad_SS</td>\n",
       "      <td>0.491994</td>\n",
       "    </tr>\n",
       "    <tr>\n",
       "      <th>109</th>\n",
       "      <td>DifEnDias_SS</td>\n",
       "      <td>0.411059</td>\n",
       "    </tr>\n",
       "    <tr>\n",
       "      <th>50</th>\n",
       "      <td>TipoDeTurnoAsignado_Primera Vez</td>\n",
       "      <td>0.275224</td>\n",
       "    </tr>\n",
       "    <tr>\n",
       "      <th>69</th>\n",
       "      <td>Bin_Diff_Dias_0_5</td>\n",
       "      <td>0.264356</td>\n",
       "    </tr>\n",
       "    <tr>\n",
       "      <th>111</th>\n",
       "      <td>Tmed_SS</td>\n",
       "      <td>0.228297</td>\n",
       "    </tr>\n",
       "    <tr>\n",
       "      <th>67</th>\n",
       "      <td>NombreDelCanal_Teléfono</td>\n",
       "      <td>0.217590</td>\n",
       "    </tr>\n",
       "    <tr>\n",
       "      <th>65</th>\n",
       "      <td>NombreDelCanal_No Definido</td>\n",
       "      <td>0.172255</td>\n",
       "    </tr>\n",
       "    <tr>\n",
       "      <th>0</th>\n",
       "      <td>Sexo_F</td>\n",
       "      <td>0.164324</td>\n",
       "    </tr>\n",
       "    <tr>\n",
       "      <th>53</th>\n",
       "      <td>TipoDeTurnoAsignado_Ulterior / Control</td>\n",
       "      <td>0.161131</td>\n",
       "    </tr>\n",
       "    <tr>\n",
       "      <th>25</th>\n",
       "      <td>ServicioAgrupado_OTRO</td>\n",
       "      <td>0.136058</td>\n",
       "    </tr>\n",
       "  </tbody>\n",
       "</table>\n",
       "</div>"
      ],
      "text/plain": [
       "                                    Feature  Permutation Mean\n",
       "112                                 Edad_SS          0.491994\n",
       "109                            DifEnDias_SS          0.411059\n",
       "50          TipoDeTurnoAsignado_Primera Vez          0.275224\n",
       "69                        Bin_Diff_Dias_0_5          0.264356\n",
       "111                                 Tmed_SS          0.228297\n",
       "67                  NombreDelCanal_Teléfono          0.217590\n",
       "65               NombreDelCanal_No Definido          0.172255\n",
       "0                                    Sexo_F          0.164324\n",
       "53   TipoDeTurnoAsignado_Ulterior / Control          0.161131\n",
       "25                    ServicioAgrupado_OTRO          0.136058"
      ]
     },
     "execution_count": 34,
     "metadata": {},
     "output_type": "execute_result"
    }
   ],
   "source": [
    "df_rfc_importance = pd.DataFrame({'Feature': X.columns.values, 'Permutation Mean': rfc_importance})\n",
    "df_rfc_importance = df_rfc_importance.sort_values(by=['Permutation Mean'], ascending=False)\n",
    "\n",
    "df_rfc_importance.head(10)"
   ]
  },
  {
   "cell_type": "markdown",
   "metadata": {},
   "source": [
    "### Random Forest Classifier con Feature engineering"
   ]
  },
  {
   "cell_type": "code",
   "execution_count": 35,
   "metadata": {},
   "outputs": [],
   "source": [
    "rfc_features = df_rfc_importance.head(20)['Feature'].values\n",
    "X_train_rfc_fe = X_train[rfc_features]\n",
    "X_test_rfc_fe = X_test[rfc_features]"
   ]
  },
  {
   "cell_type": "markdown",
   "metadata": {},
   "source": [
    "#### Hyperparameter Tuning"
   ]
  },
  {
   "cell_type": "code",
   "execution_count": 37,
   "metadata": {},
   "outputs": [],
   "source": [
    "rfc_fe = RandomForestClassifier(random_state=random_state, n_jobs=-1)"
   ]
  },
  {
   "cell_type": "code",
   "execution_count": 38,
   "metadata": {},
   "outputs": [],
   "source": [
    "params_rfc_fe = {\n",
    "    'criterion': ['gini', 'entropy'],\n",
    "    'n_estimators': [20, 50, 100, 300],\n",
    "    'max_depth': [15, 30, 50, None],\n",
    "}"
   ]
  },
  {
   "cell_type": "code",
   "execution_count": 39,
   "metadata": {},
   "outputs": [],
   "source": [
    "rfc_fe_rcv = RandomizedSearchCV(rfc_fe, params_rfc_fe, scoring='recall', cv=5)\n",
    "rfc_fe_rcv.fit(X_train_rfc_fe, y_train);"
   ]
  },
  {
   "cell_type": "code",
   "execution_count": 40,
   "metadata": {},
   "outputs": [
    {
     "name": "stdout",
     "output_type": "stream",
     "text": [
      "Resultados de Randomized Search CV:\n",
      "\n"
     ]
    },
    {
     "data": {
      "text/html": [
       "<div>\n",
       "<style scoped>\n",
       "    .dataframe tbody tr th:only-of-type {\n",
       "        vertical-align: middle;\n",
       "    }\n",
       "\n",
       "    .dataframe tbody tr th {\n",
       "        vertical-align: top;\n",
       "    }\n",
       "\n",
       "    .dataframe thead th {\n",
       "        text-align: right;\n",
       "    }\n",
       "</style>\n",
       "<table border=\"1\" class=\"dataframe\">\n",
       "  <thead>\n",
       "    <tr style=\"text-align: right;\">\n",
       "      <th></th>\n",
       "      <th>mean_fit_time</th>\n",
       "      <th>std_fit_time</th>\n",
       "      <th>mean_score_time</th>\n",
       "      <th>std_score_time</th>\n",
       "      <th>param_n_estimators</th>\n",
       "      <th>param_max_depth</th>\n",
       "      <th>param_criterion</th>\n",
       "      <th>params</th>\n",
       "      <th>split0_test_score</th>\n",
       "      <th>split1_test_score</th>\n",
       "      <th>split2_test_score</th>\n",
       "      <th>split3_test_score</th>\n",
       "      <th>split4_test_score</th>\n",
       "      <th>mean_test_score</th>\n",
       "      <th>std_test_score</th>\n",
       "      <th>rank_test_score</th>\n",
       "    </tr>\n",
       "  </thead>\n",
       "  <tbody>\n",
       "    <tr>\n",
       "      <th>0</th>\n",
       "      <td>8.509982</td>\n",
       "      <td>0.106230</td>\n",
       "      <td>0.513547</td>\n",
       "      <td>0.001084</td>\n",
       "      <td>20</td>\n",
       "      <td>30</td>\n",
       "      <td>gini</td>\n",
       "      <td>{'n_estimators': 20, 'max_depth': 30, 'criteri...</td>\n",
       "      <td>0.077156</td>\n",
       "      <td>0.078194</td>\n",
       "      <td>0.077651</td>\n",
       "      <td>0.077610</td>\n",
       "      <td>0.073997</td>\n",
       "      <td>0.076922</td>\n",
       "      <td>0.001499</td>\n",
       "      <td>1</td>\n",
       "    </tr>\n",
       "    <tr>\n",
       "      <th>1</th>\n",
       "      <td>9.426729</td>\n",
       "      <td>1.356099</td>\n",
       "      <td>0.560226</td>\n",
       "      <td>0.081253</td>\n",
       "      <td>20</td>\n",
       "      <td>30</td>\n",
       "      <td>entropy</td>\n",
       "      <td>{'n_estimators': 20, 'max_depth': 30, 'criteri...</td>\n",
       "      <td>0.075537</td>\n",
       "      <td>0.073543</td>\n",
       "      <td>0.077278</td>\n",
       "      <td>0.075824</td>\n",
       "      <td>0.072751</td>\n",
       "      <td>0.074987</td>\n",
       "      <td>0.001633</td>\n",
       "      <td>2</td>\n",
       "    </tr>\n",
       "    <tr>\n",
       "      <th>2</th>\n",
       "      <td>20.599107</td>\n",
       "      <td>0.259671</td>\n",
       "      <td>1.049852</td>\n",
       "      <td>0.007200</td>\n",
       "      <td>50</td>\n",
       "      <td>50</td>\n",
       "      <td>gini</td>\n",
       "      <td>{'n_estimators': 50, 'max_depth': 50, 'criteri...</td>\n",
       "      <td>0.072921</td>\n",
       "      <td>0.072879</td>\n",
       "      <td>0.077236</td>\n",
       "      <td>0.074454</td>\n",
       "      <td>0.071132</td>\n",
       "      <td>0.073724</td>\n",
       "      <td>0.002047</td>\n",
       "      <td>3</td>\n",
       "    </tr>\n",
       "    <tr>\n",
       "      <th>3</th>\n",
       "      <td>123.720094</td>\n",
       "      <td>1.945186</td>\n",
       "      <td>10.067260</td>\n",
       "      <td>0.906666</td>\n",
       "      <td>300</td>\n",
       "      <td>None</td>\n",
       "      <td>gini</td>\n",
       "      <td>{'n_estimators': 300, 'max_depth': None, 'crit...</td>\n",
       "      <td>0.068020</td>\n",
       "      <td>0.068851</td>\n",
       "      <td>0.071340</td>\n",
       "      <td>0.072170</td>\n",
       "      <td>0.067187</td>\n",
       "      <td>0.069514</td>\n",
       "      <td>0.001922</td>\n",
       "      <td>4</td>\n",
       "    </tr>\n",
       "    <tr>\n",
       "      <th>4</th>\n",
       "      <td>124.579685</td>\n",
       "      <td>1.328099</td>\n",
       "      <td>9.834086</td>\n",
       "      <td>0.724052</td>\n",
       "      <td>300</td>\n",
       "      <td>50</td>\n",
       "      <td>entropy</td>\n",
       "      <td>{'n_estimators': 300, 'max_depth': 50, 'criter...</td>\n",
       "      <td>0.067979</td>\n",
       "      <td>0.067231</td>\n",
       "      <td>0.071173</td>\n",
       "      <td>0.071630</td>\n",
       "      <td>0.066606</td>\n",
       "      <td>0.068924</td>\n",
       "      <td>0.002074</td>\n",
       "      <td>5</td>\n",
       "    </tr>\n",
       "  </tbody>\n",
       "</table>\n",
       "</div>"
      ],
      "text/plain": [
       "   mean_fit_time  std_fit_time  mean_score_time  std_score_time  \\\n",
       "0       8.509982      0.106230         0.513547        0.001084   \n",
       "1       9.426729      1.356099         0.560226        0.081253   \n",
       "2      20.599107      0.259671         1.049852        0.007200   \n",
       "3     123.720094      1.945186        10.067260        0.906666   \n",
       "4     124.579685      1.328099         9.834086        0.724052   \n",
       "\n",
       "  param_n_estimators param_max_depth param_criterion  \\\n",
       "0                 20              30            gini   \n",
       "1                 20              30         entropy   \n",
       "2                 50              50            gini   \n",
       "3                300            None            gini   \n",
       "4                300              50         entropy   \n",
       "\n",
       "                                              params  split0_test_score  \\\n",
       "0  {'n_estimators': 20, 'max_depth': 30, 'criteri...           0.077156   \n",
       "1  {'n_estimators': 20, 'max_depth': 30, 'criteri...           0.075537   \n",
       "2  {'n_estimators': 50, 'max_depth': 50, 'criteri...           0.072921   \n",
       "3  {'n_estimators': 300, 'max_depth': None, 'crit...           0.068020   \n",
       "4  {'n_estimators': 300, 'max_depth': 50, 'criter...           0.067979   \n",
       "\n",
       "   split1_test_score  split2_test_score  split3_test_score  split4_test_score  \\\n",
       "0           0.078194           0.077651           0.077610           0.073997   \n",
       "1           0.073543           0.077278           0.075824           0.072751   \n",
       "2           0.072879           0.077236           0.074454           0.071132   \n",
       "3           0.068851           0.071340           0.072170           0.067187   \n",
       "4           0.067231           0.071173           0.071630           0.066606   \n",
       "\n",
       "   mean_test_score  std_test_score  rank_test_score  \n",
       "0         0.076922        0.001499                1  \n",
       "1         0.074987        0.001633                2  \n",
       "2         0.073724        0.002047                3  \n",
       "3         0.069514        0.001922                4  \n",
       "4         0.068924        0.002074                5  "
      ]
     },
     "execution_count": 40,
     "metadata": {},
     "output_type": "execute_result"
    }
   ],
   "source": [
    "rfc_fe_rcv_results = pd.DataFrame(rfc_fe_rcv.cv_results_)\n",
    "rfc_fe_rcv_results = rfc_fe_rcv_results.sort_values(by=['rank_test_score'], ascending=True).reset_index(drop=True)\n",
    "\n",
    "print('Resultados de Randomized Search CV:\\n')\n",
    "rfc_fe_rcv_results.head(5)"
   ]
  },
  {
   "cell_type": "code",
   "execution_count": 41,
   "metadata": {},
   "outputs": [
    {
     "data": {
      "text/plain": [
       "{'n_estimators': 20, 'max_depth': 30, 'criterion': 'gini'}"
      ]
     },
     "execution_count": 41,
     "metadata": {},
     "output_type": "execute_result"
    }
   ],
   "source": [
    "rfc_fe_rcv_results.iloc[0]['params']"
   ]
  },
  {
   "cell_type": "code",
   "execution_count": 42,
   "metadata": {},
   "outputs": [],
   "source": [
    "rfc_fe_cv_best_params = {'n_estimators': 20, 'max_depth': 30, 'criterion': 'gini'}"
   ]
  },
  {
   "cell_type": "markdown",
   "metadata": {},
   "source": [
    "#### Modelo optimizado"
   ]
  },
  {
   "cell_type": "code",
   "execution_count": 43,
   "metadata": {},
   "outputs": [],
   "source": [
    "rfc_fe_opt = RandomForestClassifier(**rfc_fe_cv_best_params, random_state=random_state, n_jobs=-1)\n",
    "rfc_fe_opt.fit(X_train_rfc_fe, y_train);"
   ]
  },
  {
   "cell_type": "code",
   "execution_count": 44,
   "metadata": {},
   "outputs": [],
   "source": [
    "y_pred_rfc_fe_opt_train = rfc_fe_opt.predict(X_train_rfc_fe)\n",
    "y_pred_rfc_fe_opt_test = rfc_fe_opt.predict(X_test_rfc_fe)"
   ]
  },
  {
   "cell_type": "code",
   "execution_count": 45,
   "metadata": {},
   "outputs": [
    {
     "data": {
      "text/html": [
       "<div>\n",
       "<style scoped>\n",
       "    .dataframe tbody tr th:only-of-type {\n",
       "        vertical-align: middle;\n",
       "    }\n",
       "\n",
       "    .dataframe tbody tr th {\n",
       "        vertical-align: top;\n",
       "    }\n",
       "\n",
       "    .dataframe thead th {\n",
       "        text-align: right;\n",
       "    }\n",
       "</style>\n",
       "<table border=\"1\" class=\"dataframe\">\n",
       "  <thead>\n",
       "    <tr style=\"text-align: right;\">\n",
       "      <th></th>\n",
       "      <th>Actual - Atendido</th>\n",
       "      <th>Actual - Ausente</th>\n",
       "      <th>Total</th>\n",
       "    </tr>\n",
       "  </thead>\n",
       "  <tbody>\n",
       "    <tr>\n",
       "      <th>Predicted - Atendido</th>\n",
       "      <td>156,638</td>\n",
       "      <td>27,820</td>\n",
       "      <td>184,458</td>\n",
       "    </tr>\n",
       "    <tr>\n",
       "      <th>Predicted - Ausente</th>\n",
       "      <td>5,617</td>\n",
       "      <td>2,384</td>\n",
       "      <td>8,001</td>\n",
       "    </tr>\n",
       "    <tr>\n",
       "      <th>Total</th>\n",
       "      <td>162,255</td>\n",
       "      <td>30,204</td>\n",
       "      <td>192,459</td>\n",
       "    </tr>\n",
       "  </tbody>\n",
       "</table>\n",
       "</div>"
      ],
      "text/plain": [
       "                     Actual - Atendido Actual - Ausente    Total\n",
       "Predicted - Atendido           156,638           27,820  184,458\n",
       "Predicted - Ausente              5,617            2,384    8,001\n",
       "Total                          162,255           30,204  192,459"
      ]
     },
     "execution_count": 45,
     "metadata": {},
     "output_type": "execute_result"
    }
   ],
   "source": [
    "get_confusion_matrix(y_test, y_pred_rfc_fe_opt_test)"
   ]
  },
  {
   "cell_type": "code",
   "execution_count": 46,
   "metadata": {},
   "outputs": [
    {
     "name": "stdout",
     "output_type": "stream",
     "text": [
      "Conjunto de entrenamiento:\n"
     ]
    },
    {
     "data": {
      "text/html": [
       "<div>\n",
       "<style scoped>\n",
       "    .dataframe tbody tr th:only-of-type {\n",
       "        vertical-align: middle;\n",
       "    }\n",
       "\n",
       "    .dataframe tbody tr th {\n",
       "        vertical-align: top;\n",
       "    }\n",
       "\n",
       "    .dataframe thead th {\n",
       "        text-align: right;\n",
       "    }\n",
       "</style>\n",
       "<table border=\"1\" class=\"dataframe\">\n",
       "  <thead>\n",
       "    <tr style=\"text-align: right;\">\n",
       "      <th></th>\n",
       "      <th>Accuracy</th>\n",
       "      <th>Balanced Accuracy</th>\n",
       "      <th>Precision</th>\n",
       "      <th>Recall</th>\n",
       "      <th>F1-Score</th>\n",
       "    </tr>\n",
       "  </thead>\n",
       "  <tbody>\n",
       "    <tr>\n",
       "      <th>0</th>\n",
       "      <td>97.82%</td>\n",
       "      <td>93.50%</td>\n",
       "      <td>98.66%</td>\n",
       "      <td>87.23%</td>\n",
       "      <td>92.59%</td>\n",
       "    </tr>\n",
       "  </tbody>\n",
       "</table>\n",
       "</div>"
      ],
      "text/plain": [
       "  Accuracy Balanced Accuracy Precision  Recall F1-Score\n",
       "0   97.82%            93.50%    98.66%  87.23%   92.59%"
      ]
     },
     "metadata": {},
     "output_type": "display_data"
    },
    {
     "name": "stdout",
     "output_type": "stream",
     "text": [
      "\n",
      "Conjunto de evaluación:\n"
     ]
    },
    {
     "data": {
      "text/html": [
       "<div>\n",
       "<style scoped>\n",
       "    .dataframe tbody tr th:only-of-type {\n",
       "        vertical-align: middle;\n",
       "    }\n",
       "\n",
       "    .dataframe tbody tr th {\n",
       "        vertical-align: top;\n",
       "    }\n",
       "\n",
       "    .dataframe thead th {\n",
       "        text-align: right;\n",
       "    }\n",
       "</style>\n",
       "<table border=\"1\" class=\"dataframe\">\n",
       "  <thead>\n",
       "    <tr style=\"text-align: right;\">\n",
       "      <th></th>\n",
       "      <th>Accuracy</th>\n",
       "      <th>Balanced Accuracy</th>\n",
       "      <th>Precision</th>\n",
       "      <th>Recall</th>\n",
       "      <th>F1-Score</th>\n",
       "    </tr>\n",
       "  </thead>\n",
       "  <tbody>\n",
       "    <tr>\n",
       "      <th>0</th>\n",
       "      <td>82.63%</td>\n",
       "      <td>52.22%</td>\n",
       "      <td>29.80%</td>\n",
       "      <td>7.89%</td>\n",
       "      <td>12.48%</td>\n",
       "    </tr>\n",
       "  </tbody>\n",
       "</table>\n",
       "</div>"
      ],
      "text/plain": [
       "  Accuracy Balanced Accuracy Precision Recall F1-Score\n",
       "0   82.63%            52.22%    29.80%  7.89%   12.48%"
      ]
     },
     "metadata": {},
     "output_type": "display_data"
    }
   ],
   "source": [
    "get_metrics_train_test(y_train, y_pred_rfc_fe_opt_train, y_test, y_pred_rfc_fe_opt_test)"
   ]
  },
  {
   "cell_type": "markdown",
   "metadata": {},
   "source": [
    "### XGBoost Classifier"
   ]
  },
  {
   "cell_type": "code",
   "execution_count": 47,
   "metadata": {},
   "outputs": [],
   "source": [
    "xgb_permutation_imp = permutation_importance(xgb_opt, X, Y, scoring='recall', random_state=random_state)"
   ]
  },
  {
   "cell_type": "code",
   "execution_count": 48,
   "metadata": {},
   "outputs": [],
   "source": [
    "import pickle\n",
    "pickle.dump(xgb_permutation_imp, open('xgb_permutation_imp.pkl', 'wb'))"
   ]
  },
  {
   "cell_type": "code",
   "execution_count": 49,
   "metadata": {},
   "outputs": [],
   "source": [
    "# get importance\n",
    "#xgb_importance = xgb_permutation_imp.importances_mean"
   ]
  },
  {
   "cell_type": "code",
   "execution_count": 50,
   "metadata": {},
   "outputs": [
    {
     "data": {
      "image/png": "[encoded data removed]",
      "text/plain": [
       "<Figure size 432x288 with 1 Axes>"
      ]
     },
     "metadata": {},
     "output_type": "display_data"
    }
   ],
   "source": [
    "xgb_importance = pickle.load(open('xgb_permutation_imp.pkl', 'rb'))\n",
    "xgb_importance = xgb_importance.importances_mean\n",
    "\n",
    "# plot feature importance\n",
    "plt.bar([x for x in range(len(xgb_importance))], xgb_importance)\n",
    "plt.show()"
   ]
  },
  {
   "cell_type": "code",
   "execution_count": 51,
   "metadata": {},
   "outputs": [
    {
     "data": {
      "text/html": [
       "<div>\n",
       "<style scoped>\n",
       "    .dataframe tbody tr th:only-of-type {\n",
       "        vertical-align: middle;\n",
       "    }\n",
       "\n",
       "    .dataframe tbody tr th {\n",
       "        vertical-align: top;\n",
       "    }\n",
       "\n",
       "    .dataframe thead th {\n",
       "        text-align: right;\n",
       "    }\n",
       "</style>\n",
       "<table border=\"1\" class=\"dataframe\">\n",
       "  <thead>\n",
       "    <tr style=\"text-align: right;\">\n",
       "      <th></th>\n",
       "      <th>Feature</th>\n",
       "      <th>Permutation Mean</th>\n",
       "    </tr>\n",
       "  </thead>\n",
       "  <tbody>\n",
       "    <tr>\n",
       "      <th>112</th>\n",
       "      <td>Edad_SS</td>\n",
       "      <td>0.525715</td>\n",
       "    </tr>\n",
       "    <tr>\n",
       "      <th>109</th>\n",
       "      <td>DifEnDias_SS</td>\n",
       "      <td>0.472386</td>\n",
       "    </tr>\n",
       "    <tr>\n",
       "      <th>111</th>\n",
       "      <td>Tmed_SS</td>\n",
       "      <td>0.334004</td>\n",
       "    </tr>\n",
       "    <tr>\n",
       "      <th>1</th>\n",
       "      <td>SobreTurno</td>\n",
       "      <td>0.108341</td>\n",
       "    </tr>\n",
       "    <tr>\n",
       "      <th>110</th>\n",
       "      <td>Prec_mm_SS</td>\n",
       "      <td>0.099422</td>\n",
       "    </tr>\n",
       "    <tr>\n",
       "      <th>53</th>\n",
       "      <td>TipoDeTurnoAsignado_Ulterior / Control</td>\n",
       "      <td>0.085628</td>\n",
       "    </tr>\n",
       "    <tr>\n",
       "      <th>0</th>\n",
       "      <td>Sexo_F</td>\n",
       "      <td>0.080298</td>\n",
       "    </tr>\n",
       "    <tr>\n",
       "      <th>60</th>\n",
       "      <td>PrestacionAgrupado_PRESTACIONES MULTIPLES</td>\n",
       "      <td>0.069742</td>\n",
       "    </tr>\n",
       "    <tr>\n",
       "      <th>50</th>\n",
       "      <td>TipoDeTurnoAsignado_Primera Vez</td>\n",
       "      <td>0.060570</td>\n",
       "    </tr>\n",
       "    <tr>\n",
       "      <th>12</th>\n",
       "      <td>PrestadorAgrupado_OTRO</td>\n",
       "      <td>0.054973</td>\n",
       "    </tr>\n",
       "  </tbody>\n",
       "</table>\n",
       "</div>"
      ],
      "text/plain": [
       "                                       Feature  Permutation Mean\n",
       "112                                    Edad_SS          0.525715\n",
       "109                               DifEnDias_SS          0.472386\n",
       "111                                    Tmed_SS          0.334004\n",
       "1                                   SobreTurno          0.108341\n",
       "110                                 Prec_mm_SS          0.099422\n",
       "53      TipoDeTurnoAsignado_Ulterior / Control          0.085628\n",
       "0                                       Sexo_F          0.080298\n",
       "60   PrestacionAgrupado_PRESTACIONES MULTIPLES          0.069742\n",
       "50             TipoDeTurnoAsignado_Primera Vez          0.060570\n",
       "12                      PrestadorAgrupado_OTRO          0.054973"
      ]
     },
     "execution_count": 51,
     "metadata": {},
     "output_type": "execute_result"
    }
   ],
   "source": [
    "df_xgb_importance = pd.DataFrame({'Feature': X.columns.values, 'Permutation Mean': xgb_importance})\n",
    "df_xgb_importance = df_xgb_importance.sort_values(by=['Permutation Mean'], ascending=False)\n",
    "\n",
    "df_xgb_importance.head(10)"
   ]
  },
  {
   "cell_type": "markdown",
   "metadata": {},
   "source": [
    "### XGboost Classifier con Feature engineering"
   ]
  },
  {
   "cell_type": "code",
   "execution_count": 52,
   "metadata": {},
   "outputs": [],
   "source": [
    "xgb_features = df_xgb_importance.head(20)['Feature'].values\n",
    "X_train_xgb_fe = X_train[xgb_features]\n",
    "X_test_xgb_fe = X_test[xgb_features]"
   ]
  },
  {
   "cell_type": "markdown",
   "metadata": {},
   "source": [
    "#### Hyperparameter Tuning"
   ]
  },
  {
   "cell_type": "code",
   "execution_count": 53,
   "metadata": {},
   "outputs": [],
   "source": [
    "xgb_fe = XGBClassifier(random_state=random_state, n_jobs=-1)"
   ]
  },
  {
   "cell_type": "code",
   "execution_count": 54,
   "metadata": {},
   "outputs": [],
   "source": [
    "params_xgb_fe = {\n",
    "    'n_estimators': [250, 500, 750, 1000],\n",
    "    'learning_rate': [0.05, 0.10, 0.15, 0.25, 0.30],\n",
    "     'max_depth': [10, 15, 20, 25],\n",
    "}"
   ]
  },
  {
   "cell_type": "code",
   "execution_count": 55,
   "metadata": {},
   "outputs": [],
   "source": [
    "xgb_fe_rcv = RandomizedSearchCV(xgb_fe, params_xgb_fe, scoring='recall', cv=5)\n",
    "xgb_fe_rcv.fit(X_train_xgb_fe, y_train);"
   ]
  },
  {
   "cell_type": "code",
   "execution_count": 56,
   "metadata": {},
   "outputs": [
    {
     "name": "stdout",
     "output_type": "stream",
     "text": [
      "Resultados de Randomized Search CV:\n",
      "\n"
     ]
    },
    {
     "data": {
      "text/html": [
       "<div>\n",
       "<style scoped>\n",
       "    .dataframe tbody tr th:only-of-type {\n",
       "        vertical-align: middle;\n",
       "    }\n",
       "\n",
       "    .dataframe tbody tr th {\n",
       "        vertical-align: top;\n",
       "    }\n",
       "\n",
       "    .dataframe thead th {\n",
       "        text-align: right;\n",
       "    }\n",
       "</style>\n",
       "<table border=\"1\" class=\"dataframe\">\n",
       "  <thead>\n",
       "    <tr style=\"text-align: right;\">\n",
       "      <th></th>\n",
       "      <th>mean_fit_time</th>\n",
       "      <th>std_fit_time</th>\n",
       "      <th>mean_score_time</th>\n",
       "      <th>std_score_time</th>\n",
       "      <th>param_n_estimators</th>\n",
       "      <th>param_max_depth</th>\n",
       "      <th>param_learning_rate</th>\n",
       "      <th>params</th>\n",
       "      <th>split0_test_score</th>\n",
       "      <th>split1_test_score</th>\n",
       "      <th>split2_test_score</th>\n",
       "      <th>split3_test_score</th>\n",
       "      <th>split4_test_score</th>\n",
       "      <th>mean_test_score</th>\n",
       "      <th>std_test_score</th>\n",
       "      <th>rank_test_score</th>\n",
       "    </tr>\n",
       "  </thead>\n",
       "  <tbody>\n",
       "    <tr>\n",
       "      <th>0</th>\n",
       "      <td>685.341671</td>\n",
       "      <td>1.859780</td>\n",
       "      <td>23.358375</td>\n",
       "      <td>0.583953</td>\n",
       "      <td>1000</td>\n",
       "      <td>20</td>\n",
       "      <td>0.25</td>\n",
       "      <td>{'n_estimators': 1000, 'max_depth': 20, 'learn...</td>\n",
       "      <td>0.143889</td>\n",
       "      <td>0.145717</td>\n",
       "      <td>0.153683</td>\n",
       "      <td>0.151067</td>\n",
       "      <td>0.145088</td>\n",
       "      <td>0.147889</td>\n",
       "      <td>0.003801</td>\n",
       "      <td>1</td>\n",
       "    </tr>\n",
       "    <tr>\n",
       "      <th>1</th>\n",
       "      <td>263.491901</td>\n",
       "      <td>9.117553</td>\n",
       "      <td>6.480879</td>\n",
       "      <td>0.441895</td>\n",
       "      <td>500</td>\n",
       "      <td>15</td>\n",
       "      <td>0.3</td>\n",
       "      <td>{'n_estimators': 500, 'max_depth': 15, 'learni...</td>\n",
       "      <td>0.129978</td>\n",
       "      <td>0.131016</td>\n",
       "      <td>0.139689</td>\n",
       "      <td>0.135620</td>\n",
       "      <td>0.132506</td>\n",
       "      <td>0.133762</td>\n",
       "      <td>0.003522</td>\n",
       "      <td>2</td>\n",
       "    </tr>\n",
       "    <tr>\n",
       "      <th>2</th>\n",
       "      <td>182.106639</td>\n",
       "      <td>0.939800</td>\n",
       "      <td>4.429144</td>\n",
       "      <td>0.101232</td>\n",
       "      <td>250</td>\n",
       "      <td>20</td>\n",
       "      <td>0.3</td>\n",
       "      <td>{'n_estimators': 250, 'max_depth': 20, 'learni...</td>\n",
       "      <td>0.127694</td>\n",
       "      <td>0.128525</td>\n",
       "      <td>0.137364</td>\n",
       "      <td>0.136035</td>\n",
       "      <td>0.128146</td>\n",
       "      <td>0.131553</td>\n",
       "      <td>0.004232</td>\n",
       "      <td>3</td>\n",
       "    </tr>\n",
       "    <tr>\n",
       "      <th>3</th>\n",
       "      <td>462.051247</td>\n",
       "      <td>6.871924</td>\n",
       "      <td>14.116267</td>\n",
       "      <td>0.204128</td>\n",
       "      <td>500</td>\n",
       "      <td>25</td>\n",
       "      <td>0.15</td>\n",
       "      <td>{'n_estimators': 500, 'max_depth': 25, 'learni...</td>\n",
       "      <td>0.123666</td>\n",
       "      <td>0.123624</td>\n",
       "      <td>0.134582</td>\n",
       "      <td>0.129474</td>\n",
       "      <td>0.125114</td>\n",
       "      <td>0.127292</td>\n",
       "      <td>0.004225</td>\n",
       "      <td>4</td>\n",
       "    </tr>\n",
       "    <tr>\n",
       "      <th>4</th>\n",
       "      <td>496.202026</td>\n",
       "      <td>2.987566</td>\n",
       "      <td>14.300180</td>\n",
       "      <td>0.443785</td>\n",
       "      <td>1000</td>\n",
       "      <td>15</td>\n",
       "      <td>0.1</td>\n",
       "      <td>{'n_estimators': 1000, 'max_depth': 15, 'learn...</td>\n",
       "      <td>0.085046</td>\n",
       "      <td>0.091524</td>\n",
       "      <td>0.096628</td>\n",
       "      <td>0.095507</td>\n",
       "      <td>0.090275</td>\n",
       "      <td>0.091796</td>\n",
       "      <td>0.004125</td>\n",
       "      <td>5</td>\n",
       "    </tr>\n",
       "  </tbody>\n",
       "</table>\n",
       "</div>"
      ],
      "text/plain": [
       "   mean_fit_time  std_fit_time  mean_score_time  std_score_time  \\\n",
       "0     685.341671      1.859780        23.358375        0.583953   \n",
       "1     263.491901      9.117553         6.480879        0.441895   \n",
       "2     182.106639      0.939800         4.429144        0.101232   \n",
       "3     462.051247      6.871924        14.116267        0.204128   \n",
       "4     496.202026      2.987566        14.300180        0.443785   \n",
       "\n",
       "  param_n_estimators param_max_depth param_learning_rate  \\\n",
       "0               1000              20                0.25   \n",
       "1                500              15                 0.3   \n",
       "2                250              20                 0.3   \n",
       "3                500              25                0.15   \n",
       "4               1000              15                 0.1   \n",
       "\n",
       "                                              params  split0_test_score  \\\n",
       "0  {'n_estimators': 1000, 'max_depth': 20, 'learn...           0.143889   \n",
       "1  {'n_estimators': 500, 'max_depth': 15, 'learni...           0.129978   \n",
       "2  {'n_estimators': 250, 'max_depth': 20, 'learni...           0.127694   \n",
       "3  {'n_estimators': 500, 'max_depth': 25, 'learni...           0.123666   \n",
       "4  {'n_estimators': 1000, 'max_depth': 15, 'learn...           0.085046   \n",
       "\n",
       "   split1_test_score  split2_test_score  split3_test_score  split4_test_score  \\\n",
       "0           0.145717           0.153683           0.151067           0.145088   \n",
       "1           0.131016           0.139689           0.135620           0.132506   \n",
       "2           0.128525           0.137364           0.136035           0.128146   \n",
       "3           0.123624           0.134582           0.129474           0.125114   \n",
       "4           0.091524           0.096628           0.095507           0.090275   \n",
       "\n",
       "   mean_test_score  std_test_score  rank_test_score  \n",
       "0         0.147889        0.003801                1  \n",
       "1         0.133762        0.003522                2  \n",
       "2         0.131553        0.004232                3  \n",
       "3         0.127292        0.004225                4  \n",
       "4         0.091796        0.004125                5  "
      ]
     },
     "execution_count": 56,
     "metadata": {},
     "output_type": "execute_result"
    }
   ],
   "source": [
    "xgb_fe_rcv_results = pd.DataFrame(xgb_fe_rcv.cv_results_)\n",
    "xgb_fe_rcv_results = xgb_fe_rcv_results.sort_values(by=['rank_test_score'], ascending=True).reset_index(drop=True)\n",
    "\n",
    "print('Resultados de Randomized Search CV:\\n')\n",
    "xgb_fe_rcv_results.head(5)"
   ]
  },
  {
   "cell_type": "code",
   "execution_count": 57,
   "metadata": {},
   "outputs": [
    {
     "data": {
      "text/plain": [
       "{'n_estimators': 1000, 'max_depth': 20, 'learning_rate': 0.25}"
      ]
     },
     "execution_count": 57,
     "metadata": {},
     "output_type": "execute_result"
    }
   ],
   "source": [
    "xgb_fe_rcv_results.iloc[0]['params']"
   ]
  },
  {
   "cell_type": "code",
   "execution_count": 58,
   "metadata": {},
   "outputs": [],
   "source": [
    "xgb_fe_cv_best_params = {'n_estimators': 1000, 'max_depth': 20, 'learning_rate': 0.25}"
   ]
  },
  {
   "cell_type": "markdown",
   "metadata": {},
   "source": [
    "#### Modelo optimizado"
   ]
  },
  {
   "cell_type": "code",
   "execution_count": 59,
   "metadata": {},
   "outputs": [],
   "source": [
    "xgb_fe_opt = XGBClassifier(**xgb_fe_cv_best_params, random_state=random_state, n_jobs=-1)\n",
    "xgb_fe_opt.fit(X_train_xgb_fe, y_train);"
   ]
  },
  {
   "cell_type": "code",
   "execution_count": 60,
   "metadata": {},
   "outputs": [],
   "source": [
    "y_pred_xgb_fe_opt_train = xgb_fe_opt.predict(X_train_xgb_fe)\n",
    "y_pred_xgb_fe_opt_test = xgb_fe_opt.predict(X_test_xgb_fe)"
   ]
  },
  {
   "cell_type": "code",
   "execution_count": 61,
   "metadata": {},
   "outputs": [
    {
     "data": {
      "text/html": [
       "<div>\n",
       "<style scoped>\n",
       "    .dataframe tbody tr th:only-of-type {\n",
       "        vertical-align: middle;\n",
       "    }\n",
       "\n",
       "    .dataframe tbody tr th {\n",
       "        vertical-align: top;\n",
       "    }\n",
       "\n",
       "    .dataframe thead th {\n",
       "        text-align: right;\n",
       "    }\n",
       "</style>\n",
       "<table border=\"1\" class=\"dataframe\">\n",
       "  <thead>\n",
       "    <tr style=\"text-align: right;\">\n",
       "      <th></th>\n",
       "      <th>Actual - Atendido</th>\n",
       "      <th>Actual - Ausente</th>\n",
       "      <th>Total</th>\n",
       "    </tr>\n",
       "  </thead>\n",
       "  <tbody>\n",
       "    <tr>\n",
       "      <th>Predicted - Atendido</th>\n",
       "      <td>151,098</td>\n",
       "      <td>25,644</td>\n",
       "      <td>176,742</td>\n",
       "    </tr>\n",
       "    <tr>\n",
       "      <th>Predicted - Ausente</th>\n",
       "      <td>11,157</td>\n",
       "      <td>4,560</td>\n",
       "      <td>15,717</td>\n",
       "    </tr>\n",
       "    <tr>\n",
       "      <th>Total</th>\n",
       "      <td>162,255</td>\n",
       "      <td>30,204</td>\n",
       "      <td>192,459</td>\n",
       "    </tr>\n",
       "  </tbody>\n",
       "</table>\n",
       "</div>"
      ],
      "text/plain": [
       "                     Actual - Atendido Actual - Ausente    Total\n",
       "Predicted - Atendido           151,098           25,644  176,742\n",
       "Predicted - Ausente             11,157            4,560   15,717\n",
       "Total                          162,255           30,204  192,459"
      ]
     },
     "execution_count": 61,
     "metadata": {},
     "output_type": "execute_result"
    }
   ],
   "source": [
    "get_confusion_matrix(y_test, y_pred_xgb_fe_opt_test)"
   ]
  },
  {
   "cell_type": "code",
   "execution_count": 62,
   "metadata": {},
   "outputs": [
    {
     "name": "stdout",
     "output_type": "stream",
     "text": [
      "Conjunto de entrenamiento:\n"
     ]
    },
    {
     "data": {
      "text/html": [
       "<div>\n",
       "<style scoped>\n",
       "    .dataframe tbody tr th:only-of-type {\n",
       "        vertical-align: middle;\n",
       "    }\n",
       "\n",
       "    .dataframe tbody tr th {\n",
       "        vertical-align: top;\n",
       "    }\n",
       "\n",
       "    .dataframe thead th {\n",
       "        text-align: right;\n",
       "    }\n",
       "</style>\n",
       "<table border=\"1\" class=\"dataframe\">\n",
       "  <thead>\n",
       "    <tr style=\"text-align: right;\">\n",
       "      <th></th>\n",
       "      <th>Accuracy</th>\n",
       "      <th>Balanced Accuracy</th>\n",
       "      <th>Precision</th>\n",
       "      <th>Recall</th>\n",
       "      <th>F1-Score</th>\n",
       "    </tr>\n",
       "  </thead>\n",
       "  <tbody>\n",
       "    <tr>\n",
       "      <th>0</th>\n",
       "      <td>99.45%</td>\n",
       "      <td>98.49%</td>\n",
       "      <td>99.35%</td>\n",
       "      <td>97.10%</td>\n",
       "      <td>98.21%</td>\n",
       "    </tr>\n",
       "  </tbody>\n",
       "</table>\n",
       "</div>"
      ],
      "text/plain": [
       "  Accuracy Balanced Accuracy Precision  Recall F1-Score\n",
       "0   99.45%            98.49%    99.35%  97.10%   98.21%"
      ]
     },
     "metadata": {},
     "output_type": "display_data"
    },
    {
     "name": "stdout",
     "output_type": "stream",
     "text": [
      "\n",
      "Conjunto de evaluación:\n"
     ]
    },
    {
     "data": {
      "text/html": [
       "<div>\n",
       "<style scoped>\n",
       "    .dataframe tbody tr th:only-of-type {\n",
       "        vertical-align: middle;\n",
       "    }\n",
       "\n",
       "    .dataframe tbody tr th {\n",
       "        vertical-align: top;\n",
       "    }\n",
       "\n",
       "    .dataframe thead th {\n",
       "        text-align: right;\n",
       "    }\n",
       "</style>\n",
       "<table border=\"1\" class=\"dataframe\">\n",
       "  <thead>\n",
       "    <tr style=\"text-align: right;\">\n",
       "      <th></th>\n",
       "      <th>Accuracy</th>\n",
       "      <th>Balanced Accuracy</th>\n",
       "      <th>Precision</th>\n",
       "      <th>Recall</th>\n",
       "      <th>F1-Score</th>\n",
       "    </tr>\n",
       "  </thead>\n",
       "  <tbody>\n",
       "    <tr>\n",
       "      <th>0</th>\n",
       "      <td>80.88%</td>\n",
       "      <td>54.11%</td>\n",
       "      <td>29.01%</td>\n",
       "      <td>15.10%</td>\n",
       "      <td>19.86%</td>\n",
       "    </tr>\n",
       "  </tbody>\n",
       "</table>\n",
       "</div>"
      ],
      "text/plain": [
       "  Accuracy Balanced Accuracy Precision  Recall F1-Score\n",
       "0   80.88%            54.11%    29.01%  15.10%   19.86%"
      ]
     },
     "metadata": {},
     "output_type": "display_data"
    }
   ],
   "source": [
    "get_metrics_train_test(y_train, y_pred_xgb_fe_opt_train, y_test, y_pred_xgb_fe_opt_test)"
   ]
  },
  {
   "cell_type": "code",
   "execution_count": null,
   "metadata": {},
   "outputs": [],
   "source": []
  }
 ],
 "metadata": {
  "kernelspec": {
   "display_name": "Python [conda env:mentoria] *",
   "language": "python",
   "name": "conda-env-mentoria-py"
  },
  "language_info": {
   "codemirror_mode": {
    "name": "ipython",
    "version": 3
   },
   "file_extension": ".py",
   "mimetype": "text/x-python",
   "name": "python",
   "nbconvert_exporter": "python",
   "pygments_lexer": "ipython3",
   "version": "3.6.10"
  },
  "toc": {
   "base_numbering": 1,
   "nav_menu": {},
   "number_sections": true,
   "sideBar": true,
   "skip_h1_title": false,
   "title_cell": "Table of Contents",
   "title_sidebar": "Contents",
   "toc_cell": true,
   "toc_position": {},
   "toc_section_display": true,
   "toc_window_display": false
  }
 },
 "nbformat": 4,
 "nbformat_minor": 4
}
